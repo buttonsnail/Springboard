{
 "cells": [
  {
   "cell_type": "markdown",
   "id": "0eb3eca9",
   "metadata": {},
   "source": [
    "# Capstone3 - 3 Pre-processing and Training Data Development & Modeling"
   ]
  },
  {
   "cell_type": "markdown",
   "id": "4900ea03",
   "metadata": {},
   "source": [
    "# 3.1 Imports "
   ]
  },
  {
   "cell_type": "code",
   "execution_count": 1,
   "id": "5fd58c2f",
   "metadata": {},
   "outputs": [
    {
     "name": "stderr",
     "output_type": "stream",
     "text": [
      "C:\\Users\\JIYOON JUNG\\anaconda3\\lib\\site-packages\\scipy\\__init__.py:155: UserWarning: A NumPy version >=1.18.5 and <1.25.0 is required for this version of SciPy (detected version 1.26.4\n",
      "  warnings.warn(f\"A NumPy version >={np_minversion} and <{np_maxversion}\"\n"
     ]
    }
   ],
   "source": [
    "import pandas as pd\n",
    "import os\n",
    "import pickle\n",
    "import matplotlib.pyplot as plt\n",
    "import numpy as np\n",
    "import seaborn as sns\n",
    "from sklearn import __version__ as sklearn_version\n",
    "from sklearn.svm import LinearSVC\n",
    "from sklearn.decomposition import PCA\n",
    "from sklearn.preprocessing import scale\n",
    "from sklearn.model_selection import train_test_split, cross_validate, GridSearchCV, learning_curve\n",
    "from sklearn.preprocessing import StandardScaler, MinMaxScaler\n",
    "from sklearn.dummy import DummyRegressor\n",
    "from sklearn.linear_model import LinearRegression\n",
    "from sklearn.ensemble import RandomForestRegressor\n",
    "from sklearn.metrics import r2_score, mean_squared_error, mean_absolute_error\n",
    "from sklearn.pipeline import make_pipeline\n",
    "from sklearn.impute import SimpleImputer\n",
    "from sklearn.feature_selection import SelectKBest, f_regression\n",
    "from sklearn.model_selection import train_test_split\n",
    "import datetime\n",
    "from statsmodels.tsa.seasonal import seasonal_decompose\n",
    "\n",
    "\n",
    "from sklearn.preprocessing import LabelEncoder\n",
    "import time\n",
    "import itertools\n",
    "import gc\n",
    "import pickle\n",
    "from xgboost import XGBRegressor\n",
    "from xgboost import plot_importance"
   ]
  },
  {
   "cell_type": "markdown",
   "id": "7ed91104",
   "metadata": {},
   "source": [
    "# 3.2 Load Data"
   ]
  },
  {
   "cell_type": "code",
   "execution_count": 2,
   "id": "692c1f5b",
   "metadata": {},
   "outputs": [],
   "source": [
    "df = pd.read_csv(r'C:\\Users\\JIYOON JUNG\\Desktop\\Springboard\\Unit 32 Advanced Data Visualization\\Capstone 3\\df')"
   ]
  },
  {
   "cell_type": "code",
   "execution_count": 3,
   "id": "9bf968dd",
   "metadata": {},
   "outputs": [
    {
     "data": {
      "text/html": [
       "<div>\n",
       "<style scoped>\n",
       "    .dataframe tbody tr th:only-of-type {\n",
       "        vertical-align: middle;\n",
       "    }\n",
       "\n",
       "    .dataframe tbody tr th {\n",
       "        vertical-align: top;\n",
       "    }\n",
       "\n",
       "    .dataframe thead th {\n",
       "        text-align: right;\n",
       "    }\n",
       "</style>\n",
       "<table border=\"1\" class=\"dataframe\">\n",
       "  <thead>\n",
       "    <tr style=\"text-align: right;\">\n",
       "      <th></th>\n",
       "      <th>order_id</th>\n",
       "      <th>customer_id</th>\n",
       "      <th>order_status</th>\n",
       "      <th>order_purchase_timestamp</th>\n",
       "      <th>order_estimated_delivery_date</th>\n",
       "      <th>product_id</th>\n",
       "      <th>seller_id</th>\n",
       "      <th>shipping_limit_date</th>\n",
       "      <th>price</th>\n",
       "      <th>freight_value</th>\n",
       "      <th>...</th>\n",
       "      <th>customer_state</th>\n",
       "      <th>geolocation_lat</th>\n",
       "      <th>geolocation_lng</th>\n",
       "      <th>product_category_name_english</th>\n",
       "      <th>order_size</th>\n",
       "      <th>product_order_size</th>\n",
       "      <th>Year</th>\n",
       "      <th>Month</th>\n",
       "      <th>product_sales_amt</th>\n",
       "      <th>order_sales_amt</th>\n",
       "    </tr>\n",
       "  </thead>\n",
       "  <tbody>\n",
       "    <tr>\n",
       "      <th>0</th>\n",
       "      <td>e481f51cbdc54678b7cc49136f2d6af7</td>\n",
       "      <td>9ef432eb6251297304e76186b10a928d</td>\n",
       "      <td>delivered</td>\n",
       "      <td>2017-10-02 10:56:33</td>\n",
       "      <td>2017-10-18</td>\n",
       "      <td>87285b34884572647811a353c7ac498a</td>\n",
       "      <td>3504c0cb71d7fa48d967e0e4c94d59d9</td>\n",
       "      <td>2017-10-06 11:07:15</td>\n",
       "      <td>29.99</td>\n",
       "      <td>8.72</td>\n",
       "      <td>...</td>\n",
       "      <td>SP</td>\n",
       "      <td>-23.576170</td>\n",
       "      <td>-46.587276</td>\n",
       "      <td>housewares</td>\n",
       "      <td>1</td>\n",
       "      <td>1</td>\n",
       "      <td>2017</td>\n",
       "      <td>10</td>\n",
       "      <td>29.99</td>\n",
       "      <td>29.99</td>\n",
       "    </tr>\n",
       "    <tr>\n",
       "      <th>1</th>\n",
       "      <td>53cdb2fc8bc7dce0b6741e2150273451</td>\n",
       "      <td>b0830fb4747a6c6d20dea0b8c802d7ef</td>\n",
       "      <td>delivered</td>\n",
       "      <td>2018-07-24 20:41:37</td>\n",
       "      <td>2018-08-13</td>\n",
       "      <td>595fac2a385ac33a80bd5114aec74eb8</td>\n",
       "      <td>289cdb325fb7e7f891c38608bf9e0962</td>\n",
       "      <td>2018-07-30 03:24:27</td>\n",
       "      <td>118.70</td>\n",
       "      <td>22.76</td>\n",
       "      <td>...</td>\n",
       "      <td>BA</td>\n",
       "      <td>-12.126651</td>\n",
       "      <td>-45.008162</td>\n",
       "      <td>perfumery</td>\n",
       "      <td>1</td>\n",
       "      <td>1</td>\n",
       "      <td>2018</td>\n",
       "      <td>7</td>\n",
       "      <td>118.70</td>\n",
       "      <td>118.70</td>\n",
       "    </tr>\n",
       "    <tr>\n",
       "      <th>2</th>\n",
       "      <td>47770eb9100c2d0c44946d9cf07ec65d</td>\n",
       "      <td>41ce2a54c0b03bf3443c3d931a367089</td>\n",
       "      <td>delivered</td>\n",
       "      <td>2018-08-08 08:38:49</td>\n",
       "      <td>2018-09-04</td>\n",
       "      <td>aa4383b373c6aca5d8797843e5594415</td>\n",
       "      <td>4869f7a5dfa277a7dca6462dcf3b52b2</td>\n",
       "      <td>2018-08-13 08:55:23</td>\n",
       "      <td>159.90</td>\n",
       "      <td>19.22</td>\n",
       "      <td>...</td>\n",
       "      <td>GO</td>\n",
       "      <td>-16.744472</td>\n",
       "      <td>-48.514624</td>\n",
       "      <td>auto</td>\n",
       "      <td>1</td>\n",
       "      <td>1</td>\n",
       "      <td>2018</td>\n",
       "      <td>8</td>\n",
       "      <td>159.90</td>\n",
       "      <td>159.90</td>\n",
       "    </tr>\n",
       "    <tr>\n",
       "      <th>3</th>\n",
       "      <td>949d5b44dbf5de918fe9c16f97b45f8a</td>\n",
       "      <td>f88197465ea7920adcdbec7375364d82</td>\n",
       "      <td>delivered</td>\n",
       "      <td>2017-11-18 19:28:06</td>\n",
       "      <td>2017-12-15</td>\n",
       "      <td>d0b61bfb1de832b15ba9d266ca96e5b0</td>\n",
       "      <td>66922902710d126a0e7d26b0e3805106</td>\n",
       "      <td>2017-11-23 19:45:59</td>\n",
       "      <td>45.00</td>\n",
       "      <td>27.20</td>\n",
       "      <td>...</td>\n",
       "      <td>RN</td>\n",
       "      <td>-5.774611</td>\n",
       "      <td>-35.273916</td>\n",
       "      <td>pet_shop</td>\n",
       "      <td>1</td>\n",
       "      <td>1</td>\n",
       "      <td>2017</td>\n",
       "      <td>11</td>\n",
       "      <td>45.00</td>\n",
       "      <td>45.00</td>\n",
       "    </tr>\n",
       "    <tr>\n",
       "      <th>4</th>\n",
       "      <td>ad21c59c0840e6cb83a9ceb5573f8159</td>\n",
       "      <td>8ab97904e6daea8866dbdbc4fb7aad2c</td>\n",
       "      <td>delivered</td>\n",
       "      <td>2018-02-13 21:18:39</td>\n",
       "      <td>2018-02-26</td>\n",
       "      <td>65266b2da20d04dbe00c5c2d3bb7859e</td>\n",
       "      <td>2c9e548be18521d1c43cde1c582c6de8</td>\n",
       "      <td>2018-02-19 20:31:37</td>\n",
       "      <td>19.90</td>\n",
       "      <td>8.72</td>\n",
       "      <td>...</td>\n",
       "      <td>SP</td>\n",
       "      <td>-23.675316</td>\n",
       "      <td>-46.515116</td>\n",
       "      <td>stationery</td>\n",
       "      <td>1</td>\n",
       "      <td>1</td>\n",
       "      <td>2018</td>\n",
       "      <td>2</td>\n",
       "      <td>19.90</td>\n",
       "      <td>19.90</td>\n",
       "    </tr>\n",
       "  </tbody>\n",
       "</table>\n",
       "<p>5 rows × 23 columns</p>\n",
       "</div>"
      ],
      "text/plain": [
       "                           order_id                       customer_id  \\\n",
       "0  e481f51cbdc54678b7cc49136f2d6af7  9ef432eb6251297304e76186b10a928d   \n",
       "1  53cdb2fc8bc7dce0b6741e2150273451  b0830fb4747a6c6d20dea0b8c802d7ef   \n",
       "2  47770eb9100c2d0c44946d9cf07ec65d  41ce2a54c0b03bf3443c3d931a367089   \n",
       "3  949d5b44dbf5de918fe9c16f97b45f8a  f88197465ea7920adcdbec7375364d82   \n",
       "4  ad21c59c0840e6cb83a9ceb5573f8159  8ab97904e6daea8866dbdbc4fb7aad2c   \n",
       "\n",
       "  order_status order_purchase_timestamp order_estimated_delivery_date  \\\n",
       "0    delivered      2017-10-02 10:56:33                    2017-10-18   \n",
       "1    delivered      2018-07-24 20:41:37                    2018-08-13   \n",
       "2    delivered      2018-08-08 08:38:49                    2018-09-04   \n",
       "3    delivered      2017-11-18 19:28:06                    2017-12-15   \n",
       "4    delivered      2018-02-13 21:18:39                    2018-02-26   \n",
       "\n",
       "                         product_id                         seller_id  \\\n",
       "0  87285b34884572647811a353c7ac498a  3504c0cb71d7fa48d967e0e4c94d59d9   \n",
       "1  595fac2a385ac33a80bd5114aec74eb8  289cdb325fb7e7f891c38608bf9e0962   \n",
       "2  aa4383b373c6aca5d8797843e5594415  4869f7a5dfa277a7dca6462dcf3b52b2   \n",
       "3  d0b61bfb1de832b15ba9d266ca96e5b0  66922902710d126a0e7d26b0e3805106   \n",
       "4  65266b2da20d04dbe00c5c2d3bb7859e  2c9e548be18521d1c43cde1c582c6de8   \n",
       "\n",
       "   shipping_limit_date   price  freight_value  ... customer_state  \\\n",
       "0  2017-10-06 11:07:15   29.99           8.72  ...             SP   \n",
       "1  2018-07-30 03:24:27  118.70          22.76  ...             BA   \n",
       "2  2018-08-13 08:55:23  159.90          19.22  ...             GO   \n",
       "3  2017-11-23 19:45:59   45.00          27.20  ...             RN   \n",
       "4  2018-02-19 20:31:37   19.90           8.72  ...             SP   \n",
       "\n",
       "   geolocation_lat geolocation_lng product_category_name_english  order_size  \\\n",
       "0       -23.576170      -46.587276                    housewares           1   \n",
       "1       -12.126651      -45.008162                     perfumery           1   \n",
       "2       -16.744472      -48.514624                          auto           1   \n",
       "3        -5.774611      -35.273916                      pet_shop           1   \n",
       "4       -23.675316      -46.515116                    stationery           1   \n",
       "\n",
       "   product_order_size  Year  Month  product_sales_amt  order_sales_amt  \n",
       "0                   1  2017     10              29.99            29.99  \n",
       "1                   1  2018      7             118.70           118.70  \n",
       "2                   1  2018      8             159.90           159.90  \n",
       "3                   1  2017     11              45.00            45.00  \n",
       "4                   1  2018      2              19.90            19.90  \n",
       "\n",
       "[5 rows x 23 columns]"
      ]
     },
     "execution_count": 3,
     "metadata": {},
     "output_type": "execute_result"
    }
   ],
   "source": [
    "df.head()"
   ]
  },
  {
   "cell_type": "code",
   "execution_count": 4,
   "id": "2abbca0a",
   "metadata": {},
   "outputs": [
    {
     "data": {
      "text/plain": [
       "(100196, 23)"
      ]
     },
     "execution_count": 4,
     "metadata": {},
     "output_type": "execute_result"
    }
   ],
   "source": [
    "df.shape"
   ]
  },
  {
   "cell_type": "code",
   "execution_count": 5,
   "id": "2fbbf7f0",
   "metadata": {
    "scrolled": false
   },
   "outputs": [
    {
     "name": "stdout",
     "output_type": "stream",
     "text": [
      "<class 'pandas.core.frame.DataFrame'>\n",
      "RangeIndex: 100196 entries, 0 to 100195\n",
      "Data columns (total 23 columns):\n",
      " #   Column                         Non-Null Count   Dtype  \n",
      "---  ------                         --------------   -----  \n",
      " 0   order_id                       100196 non-null  object \n",
      " 1   customer_id                    100196 non-null  object \n",
      " 2   order_status                   100196 non-null  object \n",
      " 3   order_purchase_timestamp       100196 non-null  object \n",
      " 4   order_estimated_delivery_date  100196 non-null  object \n",
      " 5   product_id                     100196 non-null  object \n",
      " 6   seller_id                      100196 non-null  object \n",
      " 7   shipping_limit_date            100196 non-null  object \n",
      " 8   price                          100196 non-null  float64\n",
      " 9   freight_value                  100196 non-null  float64\n",
      " 10  customer_unique_id             100196 non-null  object \n",
      " 11  customer_zip_code_prefix       100196 non-null  int64  \n",
      " 12  customer_city                  100196 non-null  object \n",
      " 13  customer_state                 100196 non-null  object \n",
      " 14  geolocation_lat                99899 non-null   float64\n",
      " 15  geolocation_lng                99899 non-null   float64\n",
      " 16  product_category_name_english  98795 non-null   object \n",
      " 17  order_size                     100196 non-null  int64  \n",
      " 18  product_order_size             100196 non-null  int64  \n",
      " 19  Year                           100196 non-null  int64  \n",
      " 20  Month                          100196 non-null  int64  \n",
      " 21  product_sales_amt              100196 non-null  float64\n",
      " 22  order_sales_amt                100196 non-null  float64\n",
      "dtypes: float64(6), int64(5), object(12)\n",
      "memory usage: 17.6+ MB\n"
     ]
    }
   ],
   "source": [
    "df.info()"
   ]
  },
  {
   "cell_type": "markdown",
   "id": "e30b5806",
   "metadata": {},
   "source": [
    "#### Change the datatype"
   ]
  },
  {
   "cell_type": "code",
   "execution_count": 6,
   "id": "edb2bc7a",
   "metadata": {},
   "outputs": [],
   "source": [
    "df['order_purchase_timestamp'] = pd.to_datetime(df['order_purchase_timestamp'])\n",
    "df['order_estimated_delivery_date'] = pd.to_datetime(df['order_estimated_delivery_date'])\n",
    "df['shipping_limit_date'] = pd.to_datetime(df['shipping_limit_date'])"
   ]
  },
  {
   "cell_type": "markdown",
   "id": "51557705",
   "metadata": {},
   "source": [
    "#### Data Preparation"
   ]
  },
  {
   "cell_type": "code",
   "execution_count": 7,
   "id": "c75faad4",
   "metadata": {},
   "outputs": [
    {
     "name": "stdout",
     "output_type": "stream",
     "text": [
      "Min:2016-09-15 12:16:38; Max:2018-08-29 15:00:37\n"
     ]
    }
   ],
   "source": [
    "print('Min:{}; Max:{}'.format(min(df.order_purchase_timestamp),max(df.order_purchase_timestamp)))"
   ]
  },
  {
   "cell_type": "code",
   "execution_count": 8,
   "id": "71506287",
   "metadata": {},
   "outputs": [],
   "source": [
    "df = df[(df['order_purchase_timestamp'] > pd.to_datetime('2017-08-01')) & \n",
    "        (df['order_purchase_timestamp'] < pd.to_datetime('2018-07-31'))]"
   ]
  },
  {
   "cell_type": "code",
   "execution_count": 9,
   "id": "cef79b9a",
   "metadata": {},
   "outputs": [
    {
     "name": "stdout",
     "output_type": "stream",
     "text": [
      "Min:2017-08-01 00:02:01; Max:2018-07-30 23:54:48\n"
     ]
    }
   ],
   "source": [
    "print('Min:{}; Max:{}'.format(min(df.order_purchase_timestamp),max(df.order_purchase_timestamp)))"
   ]
  },
  {
   "cell_type": "markdown",
   "id": "6b98aeba",
   "metadata": {},
   "source": [
    "# 3.3 Customer Segmentation"
   ]
  },
  {
   "cell_type": "markdown",
   "id": "2b2091cf",
   "metadata": {},
   "source": [
    "1. Sort customers based on that metric\n",
    "    - Recency (R): Days since the customer's last purchase\n",
    "    - Frequency (F): Number of products bought by the customer\n",
    "    - Monetary Value (M): Total spent on purchases\n",
    "    \n",
    "\n",
    "2. Break customers into a pre-defined number of groups of equal size\n",
    "    - K-Means clustering\n",
    "\n",
    "\n",
    "3. Assign a label to each group"
   ]
  },
  {
   "cell_type": "code",
   "execution_count": 10,
   "id": "f50f230b",
   "metadata": {},
   "outputs": [],
   "source": [
    "max_date = max(df['order_purchase_timestamp']) + datetime.timedelta(days=1)"
   ]
  },
  {
   "cell_type": "code",
   "execution_count": 14,
   "id": "6a5a9678",
   "metadata": {},
   "outputs": [],
   "source": [
    "rfm_data = df.groupby('customer_unique_id').agg({\n",
    "    'order_purchase_timestamp': lambda x: (max_date - x.max()).days,\n",
    "    'customer_id':'count',\n",
    "    'product_sales_amt':'sum'\n",
    "}).reset_index()\n",
    "rfm_data.columns =['customer_id','recency','frequency','monetary']"
   ]
  },
  {
   "cell_type": "code",
   "execution_count": 15,
   "id": "55d4e88a",
   "metadata": {},
   "outputs": [
    {
     "data": {
      "text/html": [
       "<div>\n",
       "<style scoped>\n",
       "    .dataframe tbody tr th:only-of-type {\n",
       "        vertical-align: middle;\n",
       "    }\n",
       "\n",
       "    .dataframe tbody tr th {\n",
       "        vertical-align: top;\n",
       "    }\n",
       "\n",
       "    .dataframe thead th {\n",
       "        text-align: right;\n",
       "    }\n",
       "</style>\n",
       "<table border=\"1\" class=\"dataframe\">\n",
       "  <thead>\n",
       "    <tr style=\"text-align: right;\">\n",
       "      <th></th>\n",
       "      <th>customer_id</th>\n",
       "      <th>recency</th>\n",
       "      <th>frequency</th>\n",
       "      <th>monetary</th>\n",
       "    </tr>\n",
       "  </thead>\n",
       "  <tbody>\n",
       "    <tr>\n",
       "      <th>0</th>\n",
       "      <td>0000366f3b9a7992bf8c76cfdf3221e2</td>\n",
       "      <td>82</td>\n",
       "      <td>1</td>\n",
       "      <td>129.90</td>\n",
       "    </tr>\n",
       "    <tr>\n",
       "      <th>1</th>\n",
       "      <td>0000b849f77a49e4a4ce2b2a4ca5be3f</td>\n",
       "      <td>85</td>\n",
       "      <td>1</td>\n",
       "      <td>18.90</td>\n",
       "    </tr>\n",
       "    <tr>\n",
       "      <th>2</th>\n",
       "      <td>0000f6ccb0745a6a4b88665a16c9f078</td>\n",
       "      <td>292</td>\n",
       "      <td>1</td>\n",
       "      <td>25.99</td>\n",
       "    </tr>\n",
       "    <tr>\n",
       "      <th>3</th>\n",
       "      <td>0004aac84e0df4da2b147fca70cf8255</td>\n",
       "      <td>259</td>\n",
       "      <td>1</td>\n",
       "      <td>180.00</td>\n",
       "    </tr>\n",
       "    <tr>\n",
       "      <th>4</th>\n",
       "      <td>0004bd2a26a76fe21f786e4fbd80607f</td>\n",
       "      <td>117</td>\n",
       "      <td>1</td>\n",
       "      <td>154.00</td>\n",
       "    </tr>\n",
       "  </tbody>\n",
       "</table>\n",
       "</div>"
      ],
      "text/plain": [
       "                        customer_id  recency  frequency  monetary\n",
       "0  0000366f3b9a7992bf8c76cfdf3221e2       82          1    129.90\n",
       "1  0000b849f77a49e4a4ce2b2a4ca5be3f       85          1     18.90\n",
       "2  0000f6ccb0745a6a4b88665a16c9f078      292          1     25.99\n",
       "3  0004aac84e0df4da2b147fca70cf8255      259          1    180.00\n",
       "4  0004bd2a26a76fe21f786e4fbd80607f      117          1    154.00"
      ]
     },
     "execution_count": 15,
     "metadata": {},
     "output_type": "execute_result"
    }
   ],
   "source": [
    "rfm_data.head()"
   ]
  },
  {
   "cell_type": "markdown",
   "id": "b5a3baf5",
   "metadata": {},
   "source": [
    "### 3.3.1 Recency"
   ]
  },
  {
   "cell_type": "code",
   "execution_count": 16,
   "id": "11fdb55b",
   "metadata": {},
   "outputs": [
    {
     "name": "stdout",
     "output_type": "stream",
     "text": [
      "count    69749.000000\n",
      "mean       169.490946\n",
      "std         98.539392\n",
      "min          1.000000\n",
      "25%         88.000000\n",
      "50%        165.000000\n",
      "75%        248.000000\n",
      "max        364.000000\n",
      "Name: recency, dtype: float64\n"
     ]
    },
    {
     "data": {
      "text/plain": [
       "<AxesSubplot:xlabel='recency', ylabel='Count'>"
      ]
     },
     "execution_count": 16,
     "metadata": {},
     "output_type": "execute_result"
    },
    {
     "data": {
      "image/png": "[encoded data removed]",
      "text/plain": [
       "<Figure size 640x480 with 1 Axes>"
      ]
     },
     "metadata": {},
     "output_type": "display_data"
    }
   ],
   "source": [
    "print(rfm_data['recency'].describe())\n",
    "sns.histplot(x='recency', data=rfm_data, kde=True)"
   ]
  },
  {
   "cell_type": "code",
   "execution_count": 17,
   "id": "435b7c7e",
   "metadata": {},
   "outputs": [],
   "source": [
    "r_labels = range(4, 0, -1)\n",
    "r_quartiles = pd.qcut(rfm_data['recency'], 4, labels = r_labels)\n",
    "rfm_data = rfm_data.assign(R = r_quartiles.values)"
   ]
  },
  {
   "cell_type": "code",
   "execution_count": 18,
   "id": "6e709090",
   "metadata": {},
   "outputs": [
    {
     "data": {
      "text/html": [
       "<div>\n",
       "<style scoped>\n",
       "    .dataframe tbody tr th:only-of-type {\n",
       "        vertical-align: middle;\n",
       "    }\n",
       "\n",
       "    .dataframe tbody tr th {\n",
       "        vertical-align: top;\n",
       "    }\n",
       "\n",
       "    .dataframe thead th {\n",
       "        text-align: right;\n",
       "    }\n",
       "</style>\n",
       "<table border=\"1\" class=\"dataframe\">\n",
       "  <thead>\n",
       "    <tr style=\"text-align: right;\">\n",
       "      <th></th>\n",
       "      <th>customer_id</th>\n",
       "      <th>recency</th>\n",
       "      <th>frequency</th>\n",
       "      <th>monetary</th>\n",
       "      <th>R</th>\n",
       "    </tr>\n",
       "  </thead>\n",
       "  <tbody>\n",
       "    <tr>\n",
       "      <th>0</th>\n",
       "      <td>0000366f3b9a7992bf8c76cfdf3221e2</td>\n",
       "      <td>82</td>\n",
       "      <td>1</td>\n",
       "      <td>129.90</td>\n",
       "      <td>4</td>\n",
       "    </tr>\n",
       "    <tr>\n",
       "      <th>1</th>\n",
       "      <td>0000b849f77a49e4a4ce2b2a4ca5be3f</td>\n",
       "      <td>85</td>\n",
       "      <td>1</td>\n",
       "      <td>18.90</td>\n",
       "      <td>4</td>\n",
       "    </tr>\n",
       "    <tr>\n",
       "      <th>2</th>\n",
       "      <td>0000f6ccb0745a6a4b88665a16c9f078</td>\n",
       "      <td>292</td>\n",
       "      <td>1</td>\n",
       "      <td>25.99</td>\n",
       "      <td>1</td>\n",
       "    </tr>\n",
       "    <tr>\n",
       "      <th>3</th>\n",
       "      <td>0004aac84e0df4da2b147fca70cf8255</td>\n",
       "      <td>259</td>\n",
       "      <td>1</td>\n",
       "      <td>180.00</td>\n",
       "      <td>1</td>\n",
       "    </tr>\n",
       "    <tr>\n",
       "      <th>4</th>\n",
       "      <td>0004bd2a26a76fe21f786e4fbd80607f</td>\n",
       "      <td>117</td>\n",
       "      <td>1</td>\n",
       "      <td>154.00</td>\n",
       "      <td>3</td>\n",
       "    </tr>\n",
       "  </tbody>\n",
       "</table>\n",
       "</div>"
      ],
      "text/plain": [
       "                        customer_id  recency  frequency  monetary  R\n",
       "0  0000366f3b9a7992bf8c76cfdf3221e2       82          1    129.90  4\n",
       "1  0000b849f77a49e4a4ce2b2a4ca5be3f       85          1     18.90  4\n",
       "2  0000f6ccb0745a6a4b88665a16c9f078      292          1     25.99  1\n",
       "3  0004aac84e0df4da2b147fca70cf8255      259          1    180.00  1\n",
       "4  0004bd2a26a76fe21f786e4fbd80607f      117          1    154.00  3"
      ]
     },
     "execution_count": 18,
     "metadata": {},
     "output_type": "execute_result"
    }
   ],
   "source": [
    "rfm_data.head()"
   ]
  },
  {
   "cell_type": "markdown",
   "id": "6c85c1dd",
   "metadata": {},
   "source": [
    "### 3.3.2 Monetary(M)"
   ]
  },
  {
   "cell_type": "code",
   "execution_count": 19,
   "id": "0fb70016",
   "metadata": {},
   "outputs": [
    {
     "name": "stdout",
     "output_type": "stream",
     "text": [
      "count    69749.000000\n",
      "mean       141.348120\n",
      "std        210.777558\n",
      "min          0.850000\n",
      "25%         47.990000\n",
      "50%         89.900000\n",
      "75%        153.960000\n",
      "max      13440.000000\n",
      "Name: monetary, dtype: float64\n"
     ]
    },
    {
     "data": {
      "text/plain": [
       "<AxesSubplot:xlabel='monetary', ylabel='Count'>"
      ]
     },
     "execution_count": 19,
     "metadata": {},
     "output_type": "execute_result"
    },
    {
     "data": {
      "image/png": "[encoded data removed]",
      "text/plain": [
       "<Figure size 640x480 with 1 Axes>"
      ]
     },
     "metadata": {},
     "output_type": "display_data"
    }
   ],
   "source": [
    "print(rfm_data['monetary'].describe())\n",
    "sns.histplot(x='monetary', data=rfm_data, kde=True)"
   ]
  },
  {
   "cell_type": "code",
   "execution_count": 20,
   "id": "2eddbb77",
   "metadata": {},
   "outputs": [],
   "source": [
    "m_labels = range(4, 0, -1)\n",
    "m_quartiles = pd.qcut(rfm_data['monetary'], 4, labels = m_labels)\n",
    "rfm_data = rfm_data.assign(M = m_quartiles.values)"
   ]
  },
  {
   "cell_type": "code",
   "execution_count": 21,
   "id": "4ede9a34",
   "metadata": {},
   "outputs": [
    {
     "data": {
      "text/html": [
       "<div>\n",
       "<style scoped>\n",
       "    .dataframe tbody tr th:only-of-type {\n",
       "        vertical-align: middle;\n",
       "    }\n",
       "\n",
       "    .dataframe tbody tr th {\n",
       "        vertical-align: top;\n",
       "    }\n",
       "\n",
       "    .dataframe thead th {\n",
       "        text-align: right;\n",
       "    }\n",
       "</style>\n",
       "<table border=\"1\" class=\"dataframe\">\n",
       "  <thead>\n",
       "    <tr style=\"text-align: right;\">\n",
       "      <th></th>\n",
       "      <th>customer_id</th>\n",
       "      <th>recency</th>\n",
       "      <th>frequency</th>\n",
       "      <th>monetary</th>\n",
       "      <th>R</th>\n",
       "      <th>M</th>\n",
       "    </tr>\n",
       "  </thead>\n",
       "  <tbody>\n",
       "    <tr>\n",
       "      <th>0</th>\n",
       "      <td>0000366f3b9a7992bf8c76cfdf3221e2</td>\n",
       "      <td>82</td>\n",
       "      <td>1</td>\n",
       "      <td>129.90</td>\n",
       "      <td>4</td>\n",
       "      <td>2</td>\n",
       "    </tr>\n",
       "    <tr>\n",
       "      <th>1</th>\n",
       "      <td>0000b849f77a49e4a4ce2b2a4ca5be3f</td>\n",
       "      <td>85</td>\n",
       "      <td>1</td>\n",
       "      <td>18.90</td>\n",
       "      <td>4</td>\n",
       "      <td>4</td>\n",
       "    </tr>\n",
       "    <tr>\n",
       "      <th>2</th>\n",
       "      <td>0000f6ccb0745a6a4b88665a16c9f078</td>\n",
       "      <td>292</td>\n",
       "      <td>1</td>\n",
       "      <td>25.99</td>\n",
       "      <td>1</td>\n",
       "      <td>4</td>\n",
       "    </tr>\n",
       "    <tr>\n",
       "      <th>3</th>\n",
       "      <td>0004aac84e0df4da2b147fca70cf8255</td>\n",
       "      <td>259</td>\n",
       "      <td>1</td>\n",
       "      <td>180.00</td>\n",
       "      <td>1</td>\n",
       "      <td>1</td>\n",
       "    </tr>\n",
       "    <tr>\n",
       "      <th>4</th>\n",
       "      <td>0004bd2a26a76fe21f786e4fbd80607f</td>\n",
       "      <td>117</td>\n",
       "      <td>1</td>\n",
       "      <td>154.00</td>\n",
       "      <td>3</td>\n",
       "      <td>1</td>\n",
       "    </tr>\n",
       "  </tbody>\n",
       "</table>\n",
       "</div>"
      ],
      "text/plain": [
       "                        customer_id  recency  frequency  monetary  R  M\n",
       "0  0000366f3b9a7992bf8c76cfdf3221e2       82          1    129.90  4  2\n",
       "1  0000b849f77a49e4a4ce2b2a4ca5be3f       85          1     18.90  4  4\n",
       "2  0000f6ccb0745a6a4b88665a16c9f078      292          1     25.99  1  4\n",
       "3  0004aac84e0df4da2b147fca70cf8255      259          1    180.00  1  1\n",
       "4  0004bd2a26a76fe21f786e4fbd80607f      117          1    154.00  3  1"
      ]
     },
     "execution_count": 21,
     "metadata": {},
     "output_type": "execute_result"
    }
   ],
   "source": [
    "rfm_data.head()"
   ]
  },
  {
   "cell_type": "markdown",
   "id": "2f60b45f",
   "metadata": {},
   "source": [
    "### 3.3.3 Frquency(F)"
   ]
  },
  {
   "cell_type": "code",
   "execution_count": 22,
   "id": "2e310645",
   "metadata": {},
   "outputs": [
    {
     "name": "stdout",
     "output_type": "stream",
     "text": [
      "0.05687536738877977\n",
      "count    69749.000000\n",
      "mean         1.067987\n",
      "std          0.312001\n",
      "min          1.000000\n",
      "25%          1.000000\n",
      "50%          1.000000\n",
      "75%          1.000000\n",
      "max         13.000000\n",
      "Name: frequency, dtype: float64\n"
     ]
    },
    {
     "data": {
      "text/plain": [
       "<AxesSubplot:xlabel='frequency', ylabel='Count'>"
      ]
     },
     "execution_count": 22,
     "metadata": {},
     "output_type": "execute_result"
    },
    {
     "data": {
      "image/png": "[encoded data removed]",
      "text/plain": [
       "<Figure size 640x480 with 1 Axes>"
      ]
     },
     "metadata": {},
     "output_type": "display_data"
    }
   ],
   "source": [
    "print(rfm_data[rfm_data['frequency']>1].shape[0] / rfm_data.shape[0])\n",
    "print(rfm_data['frequency'].describe())\n",
    "sns.histplot(x='frequency', data=rfm_data, kde=True)"
   ]
  },
  {
   "cell_type": "markdown",
   "id": "7efcf58f",
   "metadata": {},
   "source": [
    "The frequency distribution is skewed, indicating that over 75% of customers made just one purchase for the last one year. Given this distribution, manual binning is not appropriate, so we will explore other clustering techniques such as K-means to segment the frequency data."
   ]
  },
  {
   "cell_type": "code",
   "execution_count": 23,
   "id": "7c1c82a7",
   "metadata": {},
   "outputs": [
    {
     "data": {
      "text/html": [
       "<div>\n",
       "<style scoped>\n",
       "    .dataframe tbody tr th:only-of-type {\n",
       "        vertical-align: middle;\n",
       "    }\n",
       "\n",
       "    .dataframe tbody tr th {\n",
       "        vertical-align: top;\n",
       "    }\n",
       "\n",
       "    .dataframe thead th {\n",
       "        text-align: right;\n",
       "    }\n",
       "</style>\n",
       "<table border=\"1\" class=\"dataframe\">\n",
       "  <thead>\n",
       "    <tr style=\"text-align: right;\">\n",
       "      <th></th>\n",
       "      <th>recency</th>\n",
       "      <th>frequency</th>\n",
       "      <th>monetary</th>\n",
       "    </tr>\n",
       "  </thead>\n",
       "  <tbody>\n",
       "    <tr>\n",
       "      <th>count</th>\n",
       "      <td>69749.000000</td>\n",
       "      <td>69749.000000</td>\n",
       "      <td>69749.000000</td>\n",
       "    </tr>\n",
       "    <tr>\n",
       "      <th>mean</th>\n",
       "      <td>169.490946</td>\n",
       "      <td>1.067987</td>\n",
       "      <td>141.348120</td>\n",
       "    </tr>\n",
       "    <tr>\n",
       "      <th>std</th>\n",
       "      <td>98.539392</td>\n",
       "      <td>0.312001</td>\n",
       "      <td>210.777558</td>\n",
       "    </tr>\n",
       "    <tr>\n",
       "      <th>min</th>\n",
       "      <td>1.000000</td>\n",
       "      <td>1.000000</td>\n",
       "      <td>0.850000</td>\n",
       "    </tr>\n",
       "    <tr>\n",
       "      <th>25%</th>\n",
       "      <td>88.000000</td>\n",
       "      <td>1.000000</td>\n",
       "      <td>47.990000</td>\n",
       "    </tr>\n",
       "    <tr>\n",
       "      <th>50%</th>\n",
       "      <td>165.000000</td>\n",
       "      <td>1.000000</td>\n",
       "      <td>89.900000</td>\n",
       "    </tr>\n",
       "    <tr>\n",
       "      <th>75%</th>\n",
       "      <td>248.000000</td>\n",
       "      <td>1.000000</td>\n",
       "      <td>153.960000</td>\n",
       "    </tr>\n",
       "    <tr>\n",
       "      <th>max</th>\n",
       "      <td>364.000000</td>\n",
       "      <td>13.000000</td>\n",
       "      <td>13440.000000</td>\n",
       "    </tr>\n",
       "  </tbody>\n",
       "</table>\n",
       "</div>"
      ],
      "text/plain": [
       "            recency     frequency      monetary\n",
       "count  69749.000000  69749.000000  69749.000000\n",
       "mean     169.490946      1.067987    141.348120\n",
       "std       98.539392      0.312001    210.777558\n",
       "min        1.000000      1.000000      0.850000\n",
       "25%       88.000000      1.000000     47.990000\n",
       "50%      165.000000      1.000000     89.900000\n",
       "75%      248.000000      1.000000    153.960000\n",
       "max      364.000000     13.000000  13440.000000"
      ]
     },
     "execution_count": 23,
     "metadata": {},
     "output_type": "execute_result"
    }
   ],
   "source": [
    "rfm_data.describe()"
   ]
  },
  {
   "cell_type": "markdown",
   "id": "3fbb9193",
   "metadata": {},
   "source": [
    "### 3.3.4 Data Transformation to manage skewness"
   ]
  },
  {
   "cell_type": "markdown",
   "id": "e0820e1e",
   "metadata": {},
   "source": [
    "##### Monetary Log Transformation"
   ]
  },
  {
   "cell_type": "code",
   "execution_count": 24,
   "id": "31c50899",
   "metadata": {},
   "outputs": [
    {
     "name": "stderr",
     "output_type": "stream",
     "text": [
      "C:\\Users\\JIYOON JUNG\\anaconda3\\lib\\site-packages\\seaborn\\distributions.py:2619: FutureWarning: `distplot` is a deprecated function and will be removed in a future version. Please adapt your code to use either `displot` (a figure-level function with similar flexibility) or `histplot` (an axes-level function for histograms).\n",
      "  warnings.warn(msg, FutureWarning)\n"
     ]
    },
    {
     "data": {
      "image/png": "[encoded data removed]",
      "text/plain": [
       "<Figure size 640x480 with 1 Axes>"
      ]
     },
     "metadata": {},
     "output_type": "display_data"
    }
   ],
   "source": [
    "monetary_log= np.log(rfm_data['monetary'])\n",
    "sns.distplot(monetary_log)\n",
    "plt.show()"
   ]
  },
  {
   "cell_type": "code",
   "execution_count": 25,
   "id": "a4ee64bd",
   "metadata": {
    "scrolled": true
   },
   "outputs": [
    {
     "data": {
      "text/html": [
       "<div>\n",
       "<style scoped>\n",
       "    .dataframe tbody tr th:only-of-type {\n",
       "        vertical-align: middle;\n",
       "    }\n",
       "\n",
       "    .dataframe tbody tr th {\n",
       "        vertical-align: top;\n",
       "    }\n",
       "\n",
       "    .dataframe thead th {\n",
       "        text-align: right;\n",
       "    }\n",
       "</style>\n",
       "<table border=\"1\" class=\"dataframe\">\n",
       "  <thead>\n",
       "    <tr style=\"text-align: right;\">\n",
       "      <th></th>\n",
       "      <th>recency</th>\n",
       "      <th>frequency</th>\n",
       "      <th>monetary</th>\n",
       "      <th>monetary_log</th>\n",
       "    </tr>\n",
       "  </thead>\n",
       "  <tbody>\n",
       "    <tr>\n",
       "      <th>count</th>\n",
       "      <td>69749.000000</td>\n",
       "      <td>69749.000000</td>\n",
       "      <td>69749.000000</td>\n",
       "      <td>69749.000000</td>\n",
       "    </tr>\n",
       "    <tr>\n",
       "      <th>mean</th>\n",
       "      <td>169.490946</td>\n",
       "      <td>1.067987</td>\n",
       "      <td>141.348120</td>\n",
       "      <td>4.473073</td>\n",
       "    </tr>\n",
       "    <tr>\n",
       "      <th>std</th>\n",
       "      <td>98.539392</td>\n",
       "      <td>0.312001</td>\n",
       "      <td>210.777558</td>\n",
       "      <td>0.933624</td>\n",
       "    </tr>\n",
       "    <tr>\n",
       "      <th>min</th>\n",
       "      <td>1.000000</td>\n",
       "      <td>1.000000</td>\n",
       "      <td>0.850000</td>\n",
       "      <td>-0.162519</td>\n",
       "    </tr>\n",
       "    <tr>\n",
       "      <th>25%</th>\n",
       "      <td>88.000000</td>\n",
       "      <td>1.000000</td>\n",
       "      <td>47.990000</td>\n",
       "      <td>3.870993</td>\n",
       "    </tr>\n",
       "    <tr>\n",
       "      <th>50%</th>\n",
       "      <td>165.000000</td>\n",
       "      <td>1.000000</td>\n",
       "      <td>89.900000</td>\n",
       "      <td>4.498698</td>\n",
       "    </tr>\n",
       "    <tr>\n",
       "      <th>75%</th>\n",
       "      <td>248.000000</td>\n",
       "      <td>1.000000</td>\n",
       "      <td>153.960000</td>\n",
       "      <td>5.036693</td>\n",
       "    </tr>\n",
       "    <tr>\n",
       "      <th>max</th>\n",
       "      <td>364.000000</td>\n",
       "      <td>13.000000</td>\n",
       "      <td>13440.000000</td>\n",
       "      <td>9.505991</td>\n",
       "    </tr>\n",
       "  </tbody>\n",
       "</table>\n",
       "</div>"
      ],
      "text/plain": [
       "            recency     frequency      monetary  monetary_log\n",
       "count  69749.000000  69749.000000  69749.000000  69749.000000\n",
       "mean     169.490946      1.067987    141.348120      4.473073\n",
       "std       98.539392      0.312001    210.777558      0.933624\n",
       "min        1.000000      1.000000      0.850000     -0.162519\n",
       "25%       88.000000      1.000000     47.990000      3.870993\n",
       "50%      165.000000      1.000000     89.900000      4.498698\n",
       "75%      248.000000      1.000000    153.960000      5.036693\n",
       "max      364.000000     13.000000  13440.000000      9.505991"
      ]
     },
     "execution_count": 25,
     "metadata": {},
     "output_type": "execute_result"
    }
   ],
   "source": [
    "rfm_data['monetary_log'] = np.log(rfm_data['monetary'])\n",
    "rfm_data.describe()"
   ]
  },
  {
   "cell_type": "markdown",
   "id": "bd3dcf46",
   "metadata": {},
   "source": [
    "##### Frequency Log Transformation"
   ]
  },
  {
   "cell_type": "code",
   "execution_count": 26,
   "id": "3b20b9b9",
   "metadata": {},
   "outputs": [
    {
     "name": "stderr",
     "output_type": "stream",
     "text": [
      "C:\\Users\\JIYOON JUNG\\anaconda3\\lib\\site-packages\\seaborn\\distributions.py:2619: FutureWarning: `distplot` is a deprecated function and will be removed in a future version. Please adapt your code to use either `displot` (a figure-level function with similar flexibility) or `histplot` (an axes-level function for histograms).\n",
      "  warnings.warn(msg, FutureWarning)\n"
     ]
    },
    {
     "data": {
      "image/png": "[encoded data removed]",
      "text/plain": [
       "<Figure size 640x480 with 1 Axes>"
      ]
     },
     "metadata": {},
     "output_type": "display_data"
    }
   ],
   "source": [
    "frequency_log= np.log(rfm_data['frequency'])\n",
    "sns.distplot(frequency_log)\n",
    "plt.show()"
   ]
  },
  {
   "cell_type": "code",
   "execution_count": 27,
   "id": "0bd97c81",
   "metadata": {},
   "outputs": [
    {
     "data": {
      "text/html": [
       "<div>\n",
       "<style scoped>\n",
       "    .dataframe tbody tr th:only-of-type {\n",
       "        vertical-align: middle;\n",
       "    }\n",
       "\n",
       "    .dataframe tbody tr th {\n",
       "        vertical-align: top;\n",
       "    }\n",
       "\n",
       "    .dataframe thead th {\n",
       "        text-align: right;\n",
       "    }\n",
       "</style>\n",
       "<table border=\"1\" class=\"dataframe\">\n",
       "  <thead>\n",
       "    <tr style=\"text-align: right;\">\n",
       "      <th></th>\n",
       "      <th>recency</th>\n",
       "      <th>frequency</th>\n",
       "      <th>monetary</th>\n",
       "      <th>monetary_log</th>\n",
       "      <th>frequency_log</th>\n",
       "    </tr>\n",
       "  </thead>\n",
       "  <tbody>\n",
       "    <tr>\n",
       "      <th>count</th>\n",
       "      <td>69749.000000</td>\n",
       "      <td>69749.000000</td>\n",
       "      <td>69749.000000</td>\n",
       "      <td>69749.000000</td>\n",
       "      <td>69749.000000</td>\n",
       "    </tr>\n",
       "    <tr>\n",
       "      <th>mean</th>\n",
       "      <td>169.490946</td>\n",
       "      <td>1.067987</td>\n",
       "      <td>141.348120</td>\n",
       "      <td>4.473073</td>\n",
       "      <td>0.043425</td>\n",
       "    </tr>\n",
       "    <tr>\n",
       "      <th>std</th>\n",
       "      <td>98.539392</td>\n",
       "      <td>0.312001</td>\n",
       "      <td>210.777558</td>\n",
       "      <td>0.933624</td>\n",
       "      <td>0.182642</td>\n",
       "    </tr>\n",
       "    <tr>\n",
       "      <th>min</th>\n",
       "      <td>1.000000</td>\n",
       "      <td>1.000000</td>\n",
       "      <td>0.850000</td>\n",
       "      <td>-0.162519</td>\n",
       "      <td>0.000000</td>\n",
       "    </tr>\n",
       "    <tr>\n",
       "      <th>25%</th>\n",
       "      <td>88.000000</td>\n",
       "      <td>1.000000</td>\n",
       "      <td>47.990000</td>\n",
       "      <td>3.870993</td>\n",
       "      <td>0.000000</td>\n",
       "    </tr>\n",
       "    <tr>\n",
       "      <th>50%</th>\n",
       "      <td>165.000000</td>\n",
       "      <td>1.000000</td>\n",
       "      <td>89.900000</td>\n",
       "      <td>4.498698</td>\n",
       "      <td>0.000000</td>\n",
       "    </tr>\n",
       "    <tr>\n",
       "      <th>75%</th>\n",
       "      <td>248.000000</td>\n",
       "      <td>1.000000</td>\n",
       "      <td>153.960000</td>\n",
       "      <td>5.036693</td>\n",
       "      <td>0.000000</td>\n",
       "    </tr>\n",
       "    <tr>\n",
       "      <th>max</th>\n",
       "      <td>364.000000</td>\n",
       "      <td>13.000000</td>\n",
       "      <td>13440.000000</td>\n",
       "      <td>9.505991</td>\n",
       "      <td>2.564949</td>\n",
       "    </tr>\n",
       "  </tbody>\n",
       "</table>\n",
       "</div>"
      ],
      "text/plain": [
       "            recency     frequency      monetary  monetary_log  frequency_log\n",
       "count  69749.000000  69749.000000  69749.000000  69749.000000   69749.000000\n",
       "mean     169.490946      1.067987    141.348120      4.473073       0.043425\n",
       "std       98.539392      0.312001    210.777558      0.933624       0.182642\n",
       "min        1.000000      1.000000      0.850000     -0.162519       0.000000\n",
       "25%       88.000000      1.000000     47.990000      3.870993       0.000000\n",
       "50%      165.000000      1.000000     89.900000      4.498698       0.000000\n",
       "75%      248.000000      1.000000    153.960000      5.036693       0.000000\n",
       "max      364.000000     13.000000  13440.000000      9.505991       2.564949"
      ]
     },
     "execution_count": 27,
     "metadata": {},
     "output_type": "execute_result"
    }
   ],
   "source": [
    "rfm_data['frequency_log'] = np.log(rfm_data['frequency'])\n",
    "rfm_data.describe()"
   ]
  },
  {
   "cell_type": "markdown",
   "id": "12c59ad8",
   "metadata": {},
   "source": [
    "### 3.3.5 Centering Variables with different means"
   ]
  },
  {
   "cell_type": "code",
   "execution_count": 28,
   "id": "dbf383f9",
   "metadata": {},
   "outputs": [
    {
     "name": "stdout",
     "output_type": "stream",
     "text": [
      "<class 'pandas.core.frame.DataFrame'>\n",
      "RangeIndex: 69749 entries, 0 to 69748\n",
      "Data columns (total 8 columns):\n",
      " #   Column         Non-Null Count  Dtype   \n",
      "---  ------         --------------  -----   \n",
      " 0   customer_id    69749 non-null  object  \n",
      " 1   recency        69749 non-null  int64   \n",
      " 2   frequency      69749 non-null  int64   \n",
      " 3   monetary       69749 non-null  float64 \n",
      " 4   R              69749 non-null  category\n",
      " 5   M              69749 non-null  category\n",
      " 6   monetary_log   69749 non-null  float64 \n",
      " 7   frequency_log  69749 non-null  float64 \n",
      "dtypes: category(2), float64(3), int64(2), object(1)\n",
      "memory usage: 3.3+ MB\n"
     ]
    }
   ],
   "source": [
    "rfm_data.info()"
   ]
  },
  {
   "cell_type": "code",
   "execution_count": 29,
   "id": "3615f390",
   "metadata": {},
   "outputs": [
    {
     "name": "stdout",
     "output_type": "stream",
     "text": [
      "                        customer_id   recency  frequency  monetary  R  M  \\\n",
      "0  0000366f3b9a7992bf8c76cfdf3221e2 -0.887884  -0.217907 -0.054314  4  2   \n",
      "1  0000b849f77a49e4a4ce2b2a4ca5be3f -0.857439  -0.217907 -0.580939  4  4   \n",
      "2  0000f6ccb0745a6a4b88665a16c9f078  1.243258  -0.217907 -0.547302  1  4   \n",
      "3  0004aac84e0df4da2b147fca70cf8255  0.908365  -0.217907  0.183379  1  1   \n",
      "4  0004bd2a26a76fe21f786e4fbd80607f -0.532694  -0.217907  0.060025  3  1   \n",
      "\n",
      "   monetary_log  frequency_log  \n",
      "0      0.421684            0.0  \n",
      "1     -1.642977            0.0  \n",
      "2     -1.301777            0.0  \n",
      "3      0.771070            0.0  \n",
      "4      0.603973            0.0  \n"
     ]
    }
   ],
   "source": [
    "numeric_cols = ['recency', 'frequency', 'monetary', 'monetary_log']\n",
    "\n",
    "scaler = StandardScaler()\n",
    "rfm_data[numeric_cols] = scaler.fit_transform(rfm_data[numeric_cols])\n",
    "print(rfm_data.head())"
   ]
  },
  {
   "cell_type": "code",
   "execution_count": 30,
   "id": "0c1ea069",
   "metadata": {},
   "outputs": [
    {
     "data": {
      "text/html": [
       "<div>\n",
       "<style scoped>\n",
       "    .dataframe tbody tr th:only-of-type {\n",
       "        vertical-align: middle;\n",
       "    }\n",
       "\n",
       "    .dataframe tbody tr th {\n",
       "        vertical-align: top;\n",
       "    }\n",
       "\n",
       "    .dataframe thead th {\n",
       "        text-align: right;\n",
       "    }\n",
       "</style>\n",
       "<table border=\"1\" class=\"dataframe\">\n",
       "  <thead>\n",
       "    <tr style=\"text-align: right;\">\n",
       "      <th></th>\n",
       "      <th>recency</th>\n",
       "      <th>frequency</th>\n",
       "      <th>monetary</th>\n",
       "      <th>monetary_log</th>\n",
       "      <th>frequency_log</th>\n",
       "    </tr>\n",
       "  </thead>\n",
       "  <tbody>\n",
       "    <tr>\n",
       "      <th>count</th>\n",
       "      <td>6.974900e+04</td>\n",
       "      <td>6.974900e+04</td>\n",
       "      <td>6.974900e+04</td>\n",
       "      <td>6.974900e+04</td>\n",
       "      <td>69749.000000</td>\n",
       "    </tr>\n",
       "    <tr>\n",
       "      <th>mean</th>\n",
       "      <td>-2.959523e-17</td>\n",
       "      <td>1.698519e-15</td>\n",
       "      <td>-6.561393e-17</td>\n",
       "      <td>-3.789791e-16</td>\n",
       "      <td>0.043425</td>\n",
       "    </tr>\n",
       "    <tr>\n",
       "      <th>std</th>\n",
       "      <td>1.000007e+00</td>\n",
       "      <td>1.000007e+00</td>\n",
       "      <td>1.000007e+00</td>\n",
       "      <td>1.000007e+00</td>\n",
       "      <td>0.182642</td>\n",
       "    </tr>\n",
       "    <tr>\n",
       "      <th>min</th>\n",
       "      <td>-1.709896e+00</td>\n",
       "      <td>-2.179065e-01</td>\n",
       "      <td>-6.665754e-01</td>\n",
       "      <td>-4.965197e+00</td>\n",
       "      <td>0.000000</td>\n",
       "    </tr>\n",
       "    <tr>\n",
       "      <th>25%</th>\n",
       "      <td>-8.269945e-01</td>\n",
       "      <td>-2.179065e-01</td>\n",
       "      <td>-4.429257e-01</td>\n",
       "      <td>-6.448903e-01</td>\n",
       "      <td>0.000000</td>\n",
       "    </tr>\n",
       "    <tr>\n",
       "      <th>50%</th>\n",
       "      <td>-4.557546e-02</td>\n",
       "      <td>-2.179065e-01</td>\n",
       "      <td>-2.440890e-01</td>\n",
       "      <td>2.744676e-02</td>\n",
       "      <td>0.000000</td>\n",
       "    </tr>\n",
       "    <tr>\n",
       "      <th>75%</th>\n",
       "      <td>7.967333e-01</td>\n",
       "      <td>-2.179065e-01</td>\n",
       "      <td>5.983545e-02</td>\n",
       "      <td>6.036947e-01</td>\n",
       "      <td>0.000000</td>\n",
       "    </tr>\n",
       "    <tr>\n",
       "      <th>max</th>\n",
       "      <td>1.973936e+00</td>\n",
       "      <td>3.824374e+01</td>\n",
       "      <td>6.309375e+01</td>\n",
       "      <td>5.390773e+00</td>\n",
       "      <td>2.564949</td>\n",
       "    </tr>\n",
       "  </tbody>\n",
       "</table>\n",
       "</div>"
      ],
      "text/plain": [
       "            recency     frequency      monetary  monetary_log  frequency_log\n",
       "count  6.974900e+04  6.974900e+04  6.974900e+04  6.974900e+04   69749.000000\n",
       "mean  -2.959523e-17  1.698519e-15 -6.561393e-17 -3.789791e-16       0.043425\n",
       "std    1.000007e+00  1.000007e+00  1.000007e+00  1.000007e+00       0.182642\n",
       "min   -1.709896e+00 -2.179065e-01 -6.665754e-01 -4.965197e+00       0.000000\n",
       "25%   -8.269945e-01 -2.179065e-01 -4.429257e-01 -6.448903e-01       0.000000\n",
       "50%   -4.557546e-02 -2.179065e-01 -2.440890e-01  2.744676e-02       0.000000\n",
       "75%    7.967333e-01 -2.179065e-01  5.983545e-02  6.036947e-01       0.000000\n",
       "max    1.973936e+00  3.824374e+01  6.309375e+01  5.390773e+00       2.564949"
      ]
     },
     "execution_count": 30,
     "metadata": {},
     "output_type": "execute_result"
    }
   ],
   "source": [
    "rfm_data.describe()"
   ]
  },
  {
   "cell_type": "code",
   "execution_count": 31,
   "id": "481c87f3",
   "metadata": {},
   "outputs": [],
   "source": [
    "rfm_data_norm = rfm_data[['customer_id', 'recency', 'frequency', 'monetary']]"
   ]
  },
  {
   "cell_type": "code",
   "execution_count": 32,
   "id": "8926d872",
   "metadata": {},
   "outputs": [
    {
     "name": "stdout",
     "output_type": "stream",
     "text": [
      "<class 'pandas.core.frame.DataFrame'>\n",
      "RangeIndex: 69749 entries, 0 to 69748\n",
      "Data columns (total 4 columns):\n",
      " #   Column       Non-Null Count  Dtype  \n",
      "---  ------       --------------  -----  \n",
      " 0   customer_id  69749 non-null  object \n",
      " 1   recency      69749 non-null  float64\n",
      " 2   frequency    69749 non-null  float64\n",
      " 3   monetary     69749 non-null  float64\n",
      "dtypes: float64(3), object(1)\n",
      "memory usage: 2.1+ MB\n"
     ]
    }
   ],
   "source": [
    "rfm_data_norm.info()"
   ]
  },
  {
   "cell_type": "markdown",
   "id": "77cced86",
   "metadata": {},
   "source": [
    "# 3.4 K-mean Clustering"
   ]
  },
  {
   "cell_type": "markdown",
   "id": "75ab238e",
   "metadata": {},
   "source": [
    "#####  Label Encoding"
   ]
  },
  {
   "cell_type": "code",
   "execution_count": 33,
   "id": "7683ad83",
   "metadata": {},
   "outputs": [
    {
     "name": "stdout",
     "output_type": "stream",
     "text": [
      "                        customer_id   recency  frequency  monetary  \\\n",
      "0  0000366f3b9a7992bf8c76cfdf3221e2 -0.887884  -0.217907 -0.054314   \n",
      "1  0000b849f77a49e4a4ce2b2a4ca5be3f -0.857439  -0.217907 -0.580939   \n",
      "2  0000f6ccb0745a6a4b88665a16c9f078  1.243258  -0.217907 -0.547302   \n",
      "3  0004aac84e0df4da2b147fca70cf8255  0.908365  -0.217907  0.183379   \n",
      "4  0004bd2a26a76fe21f786e4fbd80607f -0.532694  -0.217907  0.060025   \n",
      "\n",
      "   customer_id_encoded  \n",
      "0                    0  \n",
      "1                    1  \n",
      "2                    2  \n",
      "3                    3  \n",
      "4                    4  \n"
     ]
    },
    {
     "name": "stderr",
     "output_type": "stream",
     "text": [
      "C:\\Users\\JIYOON JUNG\\AppData\\Local\\Temp\\ipykernel_29304\\3533201746.py:4: SettingWithCopyWarning: \n",
      "A value is trying to be set on a copy of a slice from a DataFrame.\n",
      "Try using .loc[row_indexer,col_indexer] = value instead\n",
      "\n",
      "See the caveats in the documentation: https://pandas.pydata.org/pandas-docs/stable/user_guide/indexing.html#returning-a-view-versus-a-copy\n",
      "  rfm_data_norm['customer_id_encoded'] = label_encoder.fit_transform(rfm_data_norm['customer_id'])\n"
     ]
    }
   ],
   "source": [
    "from sklearn.preprocessing import LabelEncoder\n",
    "\n",
    "label_encoder = LabelEncoder()\n",
    "rfm_data_norm['customer_id_encoded'] = label_encoder.fit_transform(rfm_data_norm['customer_id'])\n",
    "print(rfm_data_norm.head())"
   ]
  },
  {
   "cell_type": "code",
   "execution_count": 34,
   "id": "9de6b9e0",
   "metadata": {},
   "outputs": [
    {
     "name": "stdout",
     "output_type": "stream",
     "text": [
      "                        customer_id   recency  frequency  monetary  \\\n",
      "0  0000366f3b9a7992bf8c76cfdf3221e2 -0.887884  -0.217907 -0.054314   \n",
      "1  0000b849f77a49e4a4ce2b2a4ca5be3f -0.857439  -0.217907 -0.580939   \n",
      "2  0000f6ccb0745a6a4b88665a16c9f078  1.243258  -0.217907 -0.547302   \n",
      "3  0004aac84e0df4da2b147fca70cf8255  0.908365  -0.217907  0.183379   \n",
      "4  0004bd2a26a76fe21f786e4fbd80607f -0.532694  -0.217907  0.060025   \n",
      "\n",
      "   customer_id_encoded  customer_id_hashed  \n",
      "0                    0            74016217  \n",
      "1                    1             9180155  \n",
      "2                    2            27180657  \n",
      "3                    3            94074144  \n",
      "4                    4            30897332  \n"
     ]
    },
    {
     "name": "stderr",
     "output_type": "stream",
     "text": [
      "C:\\Users\\JIYOON JUNG\\AppData\\Local\\Temp\\ipykernel_29304\\3787163092.py:6: SettingWithCopyWarning: \n",
      "A value is trying to be set on a copy of a slice from a DataFrame.\n",
      "Try using .loc[row_indexer,col_indexer] = value instead\n",
      "\n",
      "See the caveats in the documentation: https://pandas.pydata.org/pandas-docs/stable/user_guide/indexing.html#returning-a-view-versus-a-copy\n",
      "  rfm_data_norm['customer_id_hashed'] = rfm_data_norm['customer_id'].apply(hash_customer_id)\n"
     ]
    }
   ],
   "source": [
    "import hashlib\n",
    "\n",
    "def hash_customer_id(customer_id):\n",
    "    return int(hashlib.sha256(customer_id.encode('utf-8')).hexdigest(), 16) % 10**8\n",
    "\n",
    "rfm_data_norm['customer_id_hashed'] = rfm_data_norm['customer_id'].apply(hash_customer_id)\n",
    "\n",
    "print(rfm_data_norm.head())"
   ]
  },
  {
   "cell_type": "code",
   "execution_count": 35,
   "id": "63b314fb",
   "metadata": {},
   "outputs": [
    {
     "name": "stderr",
     "output_type": "stream",
     "text": [
      "C:\\Users\\JIYOON JUNG\\AppData\\Local\\Temp\\ipykernel_29304\\628377302.py:1: SettingWithCopyWarning: \n",
      "A value is trying to be set on a copy of a slice from a DataFrame.\n",
      "Try using .loc[row_indexer,col_indexer] = value instead\n",
      "\n",
      "See the caveats in the documentation: https://pandas.pydata.org/pandas-docs/stable/user_guide/indexing.html#returning-a-view-versus-a-copy\n",
      "  rfm_data_norm['customer_id_hashed'] = rfm_data_norm['customer_id_hashed'].astype(float)\n"
     ]
    }
   ],
   "source": [
    "rfm_data_norm['customer_id_hashed'] = rfm_data_norm['customer_id_hashed'].astype(float)"
   ]
  },
  {
   "cell_type": "code",
   "execution_count": 36,
   "id": "654330da",
   "metadata": {},
   "outputs": [],
   "source": [
    "rfm_data_norm = rfm_data_norm[['customer_id_hashed', 'recency', 'frequency', 'monetary']]"
   ]
  },
  {
   "cell_type": "code",
   "execution_count": 37,
   "id": "e1381bfc",
   "metadata": {},
   "outputs": [
    {
     "data": {
      "text/html": [
       "<div>\n",
       "<style scoped>\n",
       "    .dataframe tbody tr th:only-of-type {\n",
       "        vertical-align: middle;\n",
       "    }\n",
       "\n",
       "    .dataframe tbody tr th {\n",
       "        vertical-align: top;\n",
       "    }\n",
       "\n",
       "    .dataframe thead th {\n",
       "        text-align: right;\n",
       "    }\n",
       "</style>\n",
       "<table border=\"1\" class=\"dataframe\">\n",
       "  <thead>\n",
       "    <tr style=\"text-align: right;\">\n",
       "      <th></th>\n",
       "      <th>customer_id_hashed</th>\n",
       "      <th>recency</th>\n",
       "      <th>frequency</th>\n",
       "      <th>monetary</th>\n",
       "    </tr>\n",
       "  </thead>\n",
       "  <tbody>\n",
       "    <tr>\n",
       "      <th>0</th>\n",
       "      <td>74016217.0</td>\n",
       "      <td>-0.887884</td>\n",
       "      <td>-0.217907</td>\n",
       "      <td>-0.054314</td>\n",
       "    </tr>\n",
       "    <tr>\n",
       "      <th>1</th>\n",
       "      <td>9180155.0</td>\n",
       "      <td>-0.857439</td>\n",
       "      <td>-0.217907</td>\n",
       "      <td>-0.580939</td>\n",
       "    </tr>\n",
       "    <tr>\n",
       "      <th>2</th>\n",
       "      <td>27180657.0</td>\n",
       "      <td>1.243258</td>\n",
       "      <td>-0.217907</td>\n",
       "      <td>-0.547302</td>\n",
       "    </tr>\n",
       "    <tr>\n",
       "      <th>3</th>\n",
       "      <td>94074144.0</td>\n",
       "      <td>0.908365</td>\n",
       "      <td>-0.217907</td>\n",
       "      <td>0.183379</td>\n",
       "    </tr>\n",
       "    <tr>\n",
       "      <th>4</th>\n",
       "      <td>30897332.0</td>\n",
       "      <td>-0.532694</td>\n",
       "      <td>-0.217907</td>\n",
       "      <td>0.060025</td>\n",
       "    </tr>\n",
       "  </tbody>\n",
       "</table>\n",
       "</div>"
      ],
      "text/plain": [
       "   customer_id_hashed   recency  frequency  monetary\n",
       "0          74016217.0 -0.887884  -0.217907 -0.054314\n",
       "1           9180155.0 -0.857439  -0.217907 -0.580939\n",
       "2          27180657.0  1.243258  -0.217907 -0.547302\n",
       "3          94074144.0  0.908365  -0.217907  0.183379\n",
       "4          30897332.0 -0.532694  -0.217907  0.060025"
      ]
     },
     "execution_count": 37,
     "metadata": {},
     "output_type": "execute_result"
    }
   ],
   "source": [
    "rfm_data_norm.head()"
   ]
  },
  {
   "cell_type": "code",
   "execution_count": 38,
   "id": "443a4b76",
   "metadata": {},
   "outputs": [
    {
     "name": "stdout",
     "output_type": "stream",
     "text": [
      "<class 'pandas.core.frame.DataFrame'>\n",
      "RangeIndex: 69749 entries, 0 to 69748\n",
      "Data columns (total 4 columns):\n",
      " #   Column              Non-Null Count  Dtype  \n",
      "---  ------              --------------  -----  \n",
      " 0   customer_id_hashed  69749 non-null  float64\n",
      " 1   recency             69749 non-null  float64\n",
      " 2   frequency           69749 non-null  float64\n",
      " 3   monetary            69749 non-null  float64\n",
      "dtypes: float64(4)\n",
      "memory usage: 2.1 MB\n"
     ]
    }
   ],
   "source": [
    "rfm_data_norm.info()"
   ]
  },
  {
   "cell_type": "code",
   "execution_count": 39,
   "id": "291c0f15",
   "metadata": {},
   "outputs": [],
   "source": [
    "import pandas as pd\n",
    "from sklearn.preprocessing import StandardScaler\n",
    "from sklearn.cluster import KMeans\n",
    "import matplotlib.pyplot as plt\n",
    "from sklearn.metrics import silhouette_score"
   ]
  },
  {
   "cell_type": "code",
   "execution_count": 40,
   "id": "72a879dd",
   "metadata": {
    "scrolled": false
   },
   "outputs": [
    {
     "data": {
      "image/png": "[encoded data removed]",
      "text/plain": [
       "<Figure size 640x480 with 1 Axes>"
      ]
     },
     "metadata": {},
     "output_type": "display_data"
    }
   ],
   "source": [
    "# Step 1: Determine the optimal number of clusters using the Elbow Method\n",
    "wcss = []\n",
    "silhouette_coefficients = []\n",
    "for i in range(2, 11):\n",
    "    kmeans = KMeans(n_clusters=i, init='k-means++', random_state=42)\n",
    "    kmeans.fit(rfm_data_norm)\n",
    "    wcss.append(kmeans.inertia_)\n",
    "    score = silhouette_score(rfm_data_norm, kmeans.labels_)\n",
    "    silhouette_coefficients.append(score)\n",
    "    \n",
    "# Plotting the Elbow Method graph\n",
    "plt.plot(range(2, 11), wcss)\n",
    "plt.title('Elbow Method')\n",
    "plt.xlabel('Number of clusters')\n",
    "plt.ylabel('WCSS')\n",
    "plt.show()"
   ]
  },
  {
   "cell_type": "code",
   "execution_count": 41,
   "id": "fa34707f",
   "metadata": {},
   "outputs": [
    {
     "data": {
      "image/png": "[encoded data removed]",
      "text/plain": [
       "<Figure size 640x480 with 1 Axes>"
      ]
     },
     "metadata": {},
     "output_type": "display_data"
    }
   ],
   "source": [
    "# Plotting the Silhouette Coefficients graph\n",
    "plt.plot(range(2, 11), silhouette_coefficients)\n",
    "plt.title('Silhouette Coefficients')\n",
    "plt.xlabel('Number of clusters')\n",
    "plt.ylabel('Silhouette Coefficient')\n",
    "plt.show()"
   ]
  },
  {
   "cell_type": "code",
   "execution_count": 45,
   "id": "cff83c5f",
   "metadata": {},
   "outputs": [
    {
     "name": "stdout",
     "output_type": "stream",
     "text": [
      "Cluster 0:\n",
      "       customer_id_hashed       recency     frequency      monetary  cluster\n",
      "count        1.745800e+04  17458.000000  17458.000000  17458.000000  17458.0\n",
      "mean         6.283227e+07     -0.004103      0.002587     -0.001116      0.0\n",
      "std          7.217971e+06      0.999398      1.003834      0.993230      0.0\n",
      "min          5.032687e+07     -1.709896     -0.217907     -0.666575      0.0\n",
      "25%          5.663101e+07     -0.834606     -0.217907     -0.444539      0.0\n",
      "50%          6.280073e+07     -0.055724     -0.217907     -0.244089      0.0\n",
      "75%          6.909737e+07      0.796733     -0.217907      0.050536      0.0\n",
      "max          7.528133e+07      1.973936     19.012918     31.254272      0.0\n",
      "Cluster 1:\n",
      "       customer_id_hashed       recency     frequency      monetary  cluster\n",
      "count        1.732400e+04  17324.000000  17324.000000  17324.000000  17324.0\n",
      "mean         1.267244e+07      0.003547      0.001517      0.000906      1.0\n",
      "std          7.300995e+06      1.003789      1.016622      0.991442      0.0\n",
      "min          5.680000e+02     -1.709896     -0.217907     -0.652342      1.0\n",
      "25%          6.326695e+06     -0.837143     -0.217907     -0.438608      1.0\n",
      "50%          1.276320e+07     -0.040501     -0.217907     -0.244089      1.0\n",
      "75%          1.896351e+07      0.796733     -0.217907      0.060025      1.0\n",
      "max          2.520691e+07      1.973936     25.423193     33.299096      1.0\n",
      "Cluster 2:\n",
      "       customer_id_hashed       recency     frequency      monetary  cluster\n",
      "count        1.768300e+04  17683.000000  17683.000000  17683.000000  17683.0\n",
      "mean         3.775726e+07     -0.001232     -0.005838      0.009135      2.0\n",
      "std          7.279910e+06      0.998844      0.986358      0.970423      0.0\n",
      "min          2.521226e+07     -1.709896     -0.217907     -0.666575      2.0\n",
      "25%          3.149101e+07     -0.832069     -0.217907     -0.438608      2.0\n",
      "50%          3.773740e+07     -0.055724     -0.217907     -0.244089      2.0\n",
      "75%          4.403475e+07      0.796733     -0.217907      0.083747      2.0\n",
      "max          5.032430e+07      1.973936     38.243743     17.827699      2.0\n",
      "Cluster 3:\n",
      "       customer_id_hashed       recency     frequency      monetary  cluster\n",
      "count        1.728400e+04  17284.000000  17284.000000  17284.000000  17284.0\n",
      "mean         8.763282e+07      0.001850      0.001839     -0.009127      3.0\n",
      "std          7.163828e+06      0.998081      0.993251      1.044221      0.0\n",
      "min          7.528296e+07     -1.709896     -0.217907     -0.656422      3.0\n",
      "25%          8.147678e+07     -0.826994     -0.217907     -0.444539      3.0\n",
      "50%          8.766130e+07     -0.045575     -0.217907     -0.248359      3.0\n",
      "75%          9.382027e+07      0.796733     -0.217907      0.041048      3.0\n",
      "max          9.999776e+07      1.973936     25.423193     63.093753      3.0\n"
     ]
    }
   ],
   "source": [
    "from sklearn.cluster import KMeans\n",
    "\n",
    "kmeans = KMeans(n_clusters=k, random_state=42)\n",
    "\n",
    "cluster_labels = kmeans.fit_predict(rfm_data_norm)\n",
    "\n",
    "rfm_data_norm['cluster'] = cluster_labels\n",
    "\n",
    "clusters = {}\n",
    "\n",
    "for i in range(k):\n",
    "    clusters[i] = rfm_data_norm[rfm_data_norm['cluster'] == i]\n",
    "\n",
    "for i in range(k):\n",
    "    print(f\"Cluster {i}:\")\n",
    "    print(clusters[i].describe())"
   ]
  },
  {
   "cell_type": "code",
   "execution_count": 46,
   "id": "ff89aa9b",
   "metadata": {},
   "outputs": [
    {
     "data": {
      "text/html": [
       "<div>\n",
       "<style scoped>\n",
       "    .dataframe tbody tr th:only-of-type {\n",
       "        vertical-align: middle;\n",
       "    }\n",
       "\n",
       "    .dataframe tbody tr th {\n",
       "        vertical-align: top;\n",
       "    }\n",
       "\n",
       "    .dataframe thead th {\n",
       "        text-align: right;\n",
       "    }\n",
       "</style>\n",
       "<table border=\"1\" class=\"dataframe\">\n",
       "  <thead>\n",
       "    <tr style=\"text-align: right;\">\n",
       "      <th></th>\n",
       "      <th>customer_id_hashed</th>\n",
       "      <th>recency</th>\n",
       "      <th>frequency</th>\n",
       "      <th>monetary</th>\n",
       "      <th>cluster</th>\n",
       "    </tr>\n",
       "  </thead>\n",
       "  <tbody>\n",
       "    <tr>\n",
       "      <th>count</th>\n",
       "      <td>1.745800e+04</td>\n",
       "      <td>17458.000000</td>\n",
       "      <td>17458.000000</td>\n",
       "      <td>17458.000000</td>\n",
       "      <td>17458.0</td>\n",
       "    </tr>\n",
       "    <tr>\n",
       "      <th>mean</th>\n",
       "      <td>6.283227e+07</td>\n",
       "      <td>-0.004103</td>\n",
       "      <td>0.002587</td>\n",
       "      <td>-0.001116</td>\n",
       "      <td>0.0</td>\n",
       "    </tr>\n",
       "    <tr>\n",
       "      <th>std</th>\n",
       "      <td>7.217971e+06</td>\n",
       "      <td>0.999398</td>\n",
       "      <td>1.003834</td>\n",
       "      <td>0.993230</td>\n",
       "      <td>0.0</td>\n",
       "    </tr>\n",
       "    <tr>\n",
       "      <th>min</th>\n",
       "      <td>5.032687e+07</td>\n",
       "      <td>-1.709896</td>\n",
       "      <td>-0.217907</td>\n",
       "      <td>-0.666575</td>\n",
       "      <td>0.0</td>\n",
       "    </tr>\n",
       "    <tr>\n",
       "      <th>25%</th>\n",
       "      <td>5.663101e+07</td>\n",
       "      <td>-0.834606</td>\n",
       "      <td>-0.217907</td>\n",
       "      <td>-0.444539</td>\n",
       "      <td>0.0</td>\n",
       "    </tr>\n",
       "    <tr>\n",
       "      <th>50%</th>\n",
       "      <td>6.280073e+07</td>\n",
       "      <td>-0.055724</td>\n",
       "      <td>-0.217907</td>\n",
       "      <td>-0.244089</td>\n",
       "      <td>0.0</td>\n",
       "    </tr>\n",
       "    <tr>\n",
       "      <th>75%</th>\n",
       "      <td>6.909737e+07</td>\n",
       "      <td>0.796733</td>\n",
       "      <td>-0.217907</td>\n",
       "      <td>0.050536</td>\n",
       "      <td>0.0</td>\n",
       "    </tr>\n",
       "    <tr>\n",
       "      <th>max</th>\n",
       "      <td>7.528133e+07</td>\n",
       "      <td>1.973936</td>\n",
       "      <td>19.012918</td>\n",
       "      <td>31.254272</td>\n",
       "      <td>0.0</td>\n",
       "    </tr>\n",
       "  </tbody>\n",
       "</table>\n",
       "</div>"
      ],
      "text/plain": [
       "       customer_id_hashed       recency     frequency      monetary  cluster\n",
       "count        1.745800e+04  17458.000000  17458.000000  17458.000000  17458.0\n",
       "mean         6.283227e+07     -0.004103      0.002587     -0.001116      0.0\n",
       "std          7.217971e+06      0.999398      1.003834      0.993230      0.0\n",
       "min          5.032687e+07     -1.709896     -0.217907     -0.666575      0.0\n",
       "25%          5.663101e+07     -0.834606     -0.217907     -0.444539      0.0\n",
       "50%          6.280073e+07     -0.055724     -0.217907     -0.244089      0.0\n",
       "75%          6.909737e+07      0.796733     -0.217907      0.050536      0.0\n",
       "max          7.528133e+07      1.973936     19.012918     31.254272      0.0"
      ]
     },
     "metadata": {},
     "output_type": "display_data"
    },
    {
     "data": {
      "text/html": [
       "<div>\n",
       "<style scoped>\n",
       "    .dataframe tbody tr th:only-of-type {\n",
       "        vertical-align: middle;\n",
       "    }\n",
       "\n",
       "    .dataframe tbody tr th {\n",
       "        vertical-align: top;\n",
       "    }\n",
       "\n",
       "    .dataframe thead th {\n",
       "        text-align: right;\n",
       "    }\n",
       "</style>\n",
       "<table border=\"1\" class=\"dataframe\">\n",
       "  <thead>\n",
       "    <tr style=\"text-align: right;\">\n",
       "      <th></th>\n",
       "      <th>customer_id_hashed</th>\n",
       "      <th>recency</th>\n",
       "      <th>frequency</th>\n",
       "      <th>monetary</th>\n",
       "      <th>cluster</th>\n",
       "    </tr>\n",
       "  </thead>\n",
       "  <tbody>\n",
       "    <tr>\n",
       "      <th>count</th>\n",
       "      <td>1.732400e+04</td>\n",
       "      <td>17324.000000</td>\n",
       "      <td>17324.000000</td>\n",
       "      <td>17324.000000</td>\n",
       "      <td>17324.0</td>\n",
       "    </tr>\n",
       "    <tr>\n",
       "      <th>mean</th>\n",
       "      <td>1.267244e+07</td>\n",
       "      <td>0.003547</td>\n",
       "      <td>0.001517</td>\n",
       "      <td>0.000906</td>\n",
       "      <td>1.0</td>\n",
       "    </tr>\n",
       "    <tr>\n",
       "      <th>std</th>\n",
       "      <td>7.300995e+06</td>\n",
       "      <td>1.003789</td>\n",
       "      <td>1.016622</td>\n",
       "      <td>0.991442</td>\n",
       "      <td>0.0</td>\n",
       "    </tr>\n",
       "    <tr>\n",
       "      <th>min</th>\n",
       "      <td>5.680000e+02</td>\n",
       "      <td>-1.709896</td>\n",
       "      <td>-0.217907</td>\n",
       "      <td>-0.652342</td>\n",
       "      <td>1.0</td>\n",
       "    </tr>\n",
       "    <tr>\n",
       "      <th>25%</th>\n",
       "      <td>6.326695e+06</td>\n",
       "      <td>-0.837143</td>\n",
       "      <td>-0.217907</td>\n",
       "      <td>-0.438608</td>\n",
       "      <td>1.0</td>\n",
       "    </tr>\n",
       "    <tr>\n",
       "      <th>50%</th>\n",
       "      <td>1.276320e+07</td>\n",
       "      <td>-0.040501</td>\n",
       "      <td>-0.217907</td>\n",
       "      <td>-0.244089</td>\n",
       "      <td>1.0</td>\n",
       "    </tr>\n",
       "    <tr>\n",
       "      <th>75%</th>\n",
       "      <td>1.896351e+07</td>\n",
       "      <td>0.796733</td>\n",
       "      <td>-0.217907</td>\n",
       "      <td>0.060025</td>\n",
       "      <td>1.0</td>\n",
       "    </tr>\n",
       "    <tr>\n",
       "      <th>max</th>\n",
       "      <td>2.520691e+07</td>\n",
       "      <td>1.973936</td>\n",
       "      <td>25.423193</td>\n",
       "      <td>33.299096</td>\n",
       "      <td>1.0</td>\n",
       "    </tr>\n",
       "  </tbody>\n",
       "</table>\n",
       "</div>"
      ],
      "text/plain": [
       "       customer_id_hashed       recency     frequency      monetary  cluster\n",
       "count        1.732400e+04  17324.000000  17324.000000  17324.000000  17324.0\n",
       "mean         1.267244e+07      0.003547      0.001517      0.000906      1.0\n",
       "std          7.300995e+06      1.003789      1.016622      0.991442      0.0\n",
       "min          5.680000e+02     -1.709896     -0.217907     -0.652342      1.0\n",
       "25%          6.326695e+06     -0.837143     -0.217907     -0.438608      1.0\n",
       "50%          1.276320e+07     -0.040501     -0.217907     -0.244089      1.0\n",
       "75%          1.896351e+07      0.796733     -0.217907      0.060025      1.0\n",
       "max          2.520691e+07      1.973936     25.423193     33.299096      1.0"
      ]
     },
     "metadata": {},
     "output_type": "display_data"
    },
    {
     "data": {
      "text/html": [
       "<div>\n",
       "<style scoped>\n",
       "    .dataframe tbody tr th:only-of-type {\n",
       "        vertical-align: middle;\n",
       "    }\n",
       "\n",
       "    .dataframe tbody tr th {\n",
       "        vertical-align: top;\n",
       "    }\n",
       "\n",
       "    .dataframe thead th {\n",
       "        text-align: right;\n",
       "    }\n",
       "</style>\n",
       "<table border=\"1\" class=\"dataframe\">\n",
       "  <thead>\n",
       "    <tr style=\"text-align: right;\">\n",
       "      <th></th>\n",
       "      <th>customer_id_hashed</th>\n",
       "      <th>recency</th>\n",
       "      <th>frequency</th>\n",
       "      <th>monetary</th>\n",
       "      <th>cluster</th>\n",
       "    </tr>\n",
       "  </thead>\n",
       "  <tbody>\n",
       "    <tr>\n",
       "      <th>count</th>\n",
       "      <td>1.768300e+04</td>\n",
       "      <td>17683.000000</td>\n",
       "      <td>17683.000000</td>\n",
       "      <td>17683.000000</td>\n",
       "      <td>17683.0</td>\n",
       "    </tr>\n",
       "    <tr>\n",
       "      <th>mean</th>\n",
       "      <td>3.775726e+07</td>\n",
       "      <td>-0.001232</td>\n",
       "      <td>-0.005838</td>\n",
       "      <td>0.009135</td>\n",
       "      <td>2.0</td>\n",
       "    </tr>\n",
       "    <tr>\n",
       "      <th>std</th>\n",
       "      <td>7.279910e+06</td>\n",
       "      <td>0.998844</td>\n",
       "      <td>0.986358</td>\n",
       "      <td>0.970423</td>\n",
       "      <td>0.0</td>\n",
       "    </tr>\n",
       "    <tr>\n",
       "      <th>min</th>\n",
       "      <td>2.521226e+07</td>\n",
       "      <td>-1.709896</td>\n",
       "      <td>-0.217907</td>\n",
       "      <td>-0.666575</td>\n",
       "      <td>2.0</td>\n",
       "    </tr>\n",
       "    <tr>\n",
       "      <th>25%</th>\n",
       "      <td>3.149101e+07</td>\n",
       "      <td>-0.832069</td>\n",
       "      <td>-0.217907</td>\n",
       "      <td>-0.438608</td>\n",
       "      <td>2.0</td>\n",
       "    </tr>\n",
       "    <tr>\n",
       "      <th>50%</th>\n",
       "      <td>3.773740e+07</td>\n",
       "      <td>-0.055724</td>\n",
       "      <td>-0.217907</td>\n",
       "      <td>-0.244089</td>\n",
       "      <td>2.0</td>\n",
       "    </tr>\n",
       "    <tr>\n",
       "      <th>75%</th>\n",
       "      <td>4.403475e+07</td>\n",
       "      <td>0.796733</td>\n",
       "      <td>-0.217907</td>\n",
       "      <td>0.083747</td>\n",
       "      <td>2.0</td>\n",
       "    </tr>\n",
       "    <tr>\n",
       "      <th>max</th>\n",
       "      <td>5.032430e+07</td>\n",
       "      <td>1.973936</td>\n",
       "      <td>38.243743</td>\n",
       "      <td>17.827699</td>\n",
       "      <td>2.0</td>\n",
       "    </tr>\n",
       "  </tbody>\n",
       "</table>\n",
       "</div>"
      ],
      "text/plain": [
       "       customer_id_hashed       recency     frequency      monetary  cluster\n",
       "count        1.768300e+04  17683.000000  17683.000000  17683.000000  17683.0\n",
       "mean         3.775726e+07     -0.001232     -0.005838      0.009135      2.0\n",
       "std          7.279910e+06      0.998844      0.986358      0.970423      0.0\n",
       "min          2.521226e+07     -1.709896     -0.217907     -0.666575      2.0\n",
       "25%          3.149101e+07     -0.832069     -0.217907     -0.438608      2.0\n",
       "50%          3.773740e+07     -0.055724     -0.217907     -0.244089      2.0\n",
       "75%          4.403475e+07      0.796733     -0.217907      0.083747      2.0\n",
       "max          5.032430e+07      1.973936     38.243743     17.827699      2.0"
      ]
     },
     "metadata": {},
     "output_type": "display_data"
    },
    {
     "data": {
      "text/html": [
       "<div>\n",
       "<style scoped>\n",
       "    .dataframe tbody tr th:only-of-type {\n",
       "        vertical-align: middle;\n",
       "    }\n",
       "\n",
       "    .dataframe tbody tr th {\n",
       "        vertical-align: top;\n",
       "    }\n",
       "\n",
       "    .dataframe thead th {\n",
       "        text-align: right;\n",
       "    }\n",
       "</style>\n",
       "<table border=\"1\" class=\"dataframe\">\n",
       "  <thead>\n",
       "    <tr style=\"text-align: right;\">\n",
       "      <th></th>\n",
       "      <th>customer_id_hashed</th>\n",
       "      <th>recency</th>\n",
       "      <th>frequency</th>\n",
       "      <th>monetary</th>\n",
       "      <th>cluster</th>\n",
       "    </tr>\n",
       "  </thead>\n",
       "  <tbody>\n",
       "    <tr>\n",
       "      <th>count</th>\n",
       "      <td>1.728400e+04</td>\n",
       "      <td>17284.000000</td>\n",
       "      <td>17284.000000</td>\n",
       "      <td>17284.000000</td>\n",
       "      <td>17284.0</td>\n",
       "    </tr>\n",
       "    <tr>\n",
       "      <th>mean</th>\n",
       "      <td>8.763282e+07</td>\n",
       "      <td>0.001850</td>\n",
       "      <td>0.001839</td>\n",
       "      <td>-0.009127</td>\n",
       "      <td>3.0</td>\n",
       "    </tr>\n",
       "    <tr>\n",
       "      <th>std</th>\n",
       "      <td>7.163828e+06</td>\n",
       "      <td>0.998081</td>\n",
       "      <td>0.993251</td>\n",
       "      <td>1.044221</td>\n",
       "      <td>0.0</td>\n",
       "    </tr>\n",
       "    <tr>\n",
       "      <th>min</th>\n",
       "      <td>7.528296e+07</td>\n",
       "      <td>-1.709896</td>\n",
       "      <td>-0.217907</td>\n",
       "      <td>-0.656422</td>\n",
       "      <td>3.0</td>\n",
       "    </tr>\n",
       "    <tr>\n",
       "      <th>25%</th>\n",
       "      <td>8.147678e+07</td>\n",
       "      <td>-0.826994</td>\n",
       "      <td>-0.217907</td>\n",
       "      <td>-0.444539</td>\n",
       "      <td>3.0</td>\n",
       "    </tr>\n",
       "    <tr>\n",
       "      <th>50%</th>\n",
       "      <td>8.766130e+07</td>\n",
       "      <td>-0.045575</td>\n",
       "      <td>-0.217907</td>\n",
       "      <td>-0.248359</td>\n",
       "      <td>3.0</td>\n",
       "    </tr>\n",
       "    <tr>\n",
       "      <th>75%</th>\n",
       "      <td>9.382027e+07</td>\n",
       "      <td>0.796733</td>\n",
       "      <td>-0.217907</td>\n",
       "      <td>0.041048</td>\n",
       "      <td>3.0</td>\n",
       "    </tr>\n",
       "    <tr>\n",
       "      <th>max</th>\n",
       "      <td>9.999776e+07</td>\n",
       "      <td>1.973936</td>\n",
       "      <td>25.423193</td>\n",
       "      <td>63.093753</td>\n",
       "      <td>3.0</td>\n",
       "    </tr>\n",
       "  </tbody>\n",
       "</table>\n",
       "</div>"
      ],
      "text/plain": [
       "       customer_id_hashed       recency     frequency      monetary  cluster\n",
       "count        1.728400e+04  17284.000000  17284.000000  17284.000000  17284.0\n",
       "mean         8.763282e+07      0.001850      0.001839     -0.009127      3.0\n",
       "std          7.163828e+06      0.998081      0.993251      1.044221      0.0\n",
       "min          7.528296e+07     -1.709896     -0.217907     -0.656422      3.0\n",
       "25%          8.147678e+07     -0.826994     -0.217907     -0.444539      3.0\n",
       "50%          8.766130e+07     -0.045575     -0.217907     -0.248359      3.0\n",
       "75%          9.382027e+07      0.796733     -0.217907      0.041048      3.0\n",
       "max          9.999776e+07      1.973936     25.423193     63.093753      3.0"
      ]
     },
     "metadata": {},
     "output_type": "display_data"
    }
   ],
   "source": [
    "import pandas as pd\n",
    "\n",
    "summary_stats = [] \n",
    "\n",
    "for i in range(k):\n",
    "    cluster_description = clusters[i].describe()\n",
    "    display(cluster_description)"
   ]
  },
  {
   "cell_type": "code",
   "execution_count": 47,
   "id": "4d743441",
   "metadata": {},
   "outputs": [
    {
     "data": {
      "text/html": [
       "<div>\n",
       "<style scoped>\n",
       "    .dataframe tbody tr th:only-of-type {\n",
       "        vertical-align: middle;\n",
       "    }\n",
       "\n",
       "    .dataframe tbody tr th {\n",
       "        vertical-align: top;\n",
       "    }\n",
       "\n",
       "    .dataframe thead th {\n",
       "        text-align: right;\n",
       "    }\n",
       "</style>\n",
       "<table border=\"1\" class=\"dataframe\">\n",
       "  <thead>\n",
       "    <tr style=\"text-align: right;\">\n",
       "      <th></th>\n",
       "      <th>customer_id_hashed</th>\n",
       "      <th>recency</th>\n",
       "      <th>frequency</th>\n",
       "      <th>monetary</th>\n",
       "      <th>cluster</th>\n",
       "    </tr>\n",
       "  </thead>\n",
       "  <tbody>\n",
       "    <tr>\n",
       "      <th>0</th>\n",
       "      <td>74016217.0</td>\n",
       "      <td>-0.887884</td>\n",
       "      <td>-0.217907</td>\n",
       "      <td>-0.054314</td>\n",
       "      <td>0</td>\n",
       "    </tr>\n",
       "    <tr>\n",
       "      <th>1</th>\n",
       "      <td>9180155.0</td>\n",
       "      <td>-0.857439</td>\n",
       "      <td>-0.217907</td>\n",
       "      <td>-0.580939</td>\n",
       "      <td>1</td>\n",
       "    </tr>\n",
       "    <tr>\n",
       "      <th>2</th>\n",
       "      <td>27180657.0</td>\n",
       "      <td>1.243258</td>\n",
       "      <td>-0.217907</td>\n",
       "      <td>-0.547302</td>\n",
       "      <td>2</td>\n",
       "    </tr>\n",
       "    <tr>\n",
       "      <th>3</th>\n",
       "      <td>94074144.0</td>\n",
       "      <td>0.908365</td>\n",
       "      <td>-0.217907</td>\n",
       "      <td>0.183379</td>\n",
       "      <td>3</td>\n",
       "    </tr>\n",
       "    <tr>\n",
       "      <th>4</th>\n",
       "      <td>30897332.0</td>\n",
       "      <td>-0.532694</td>\n",
       "      <td>-0.217907</td>\n",
       "      <td>0.060025</td>\n",
       "      <td>2</td>\n",
       "    </tr>\n",
       "  </tbody>\n",
       "</table>\n",
       "</div>"
      ],
      "text/plain": [
       "   customer_id_hashed   recency  frequency  monetary  cluster\n",
       "0          74016217.0 -0.887884  -0.217907 -0.054314        0\n",
       "1           9180155.0 -0.857439  -0.217907 -0.580939        1\n",
       "2          27180657.0  1.243258  -0.217907 -0.547302        2\n",
       "3          94074144.0  0.908365  -0.217907  0.183379        3\n",
       "4          30897332.0 -0.532694  -0.217907  0.060025        2"
      ]
     },
     "execution_count": 47,
     "metadata": {},
     "output_type": "execute_result"
    }
   ],
   "source": [
    "rfm_data_norm.head()"
   ]
  },
  {
   "cell_type": "code",
   "execution_count": 48,
   "id": "70abc2ae",
   "metadata": {},
   "outputs": [
    {
     "data": {
      "text/html": [
       "<div>\n",
       "<style scoped>\n",
       "    .dataframe tbody tr th:only-of-type {\n",
       "        vertical-align: middle;\n",
       "    }\n",
       "\n",
       "    .dataframe tbody tr th {\n",
       "        vertical-align: top;\n",
       "    }\n",
       "\n",
       "    .dataframe thead th {\n",
       "        text-align: right;\n",
       "    }\n",
       "</style>\n",
       "<table border=\"1\" class=\"dataframe\">\n",
       "  <thead>\n",
       "    <tr style=\"text-align: right;\">\n",
       "      <th></th>\n",
       "      <th>order_id</th>\n",
       "      <th>customer_id</th>\n",
       "      <th>order_status</th>\n",
       "      <th>order_purchase_timestamp</th>\n",
       "      <th>order_estimated_delivery_date</th>\n",
       "      <th>product_id</th>\n",
       "      <th>seller_id</th>\n",
       "      <th>shipping_limit_date</th>\n",
       "      <th>price</th>\n",
       "      <th>freight_value</th>\n",
       "      <th>...</th>\n",
       "      <th>customer_state</th>\n",
       "      <th>geolocation_lat</th>\n",
       "      <th>geolocation_lng</th>\n",
       "      <th>product_category_name_english</th>\n",
       "      <th>order_size</th>\n",
       "      <th>product_order_size</th>\n",
       "      <th>Year</th>\n",
       "      <th>Month</th>\n",
       "      <th>product_sales_amt</th>\n",
       "      <th>order_sales_amt</th>\n",
       "    </tr>\n",
       "  </thead>\n",
       "  <tbody>\n",
       "    <tr>\n",
       "      <th>0</th>\n",
       "      <td>e481f51cbdc54678b7cc49136f2d6af7</td>\n",
       "      <td>9ef432eb6251297304e76186b10a928d</td>\n",
       "      <td>delivered</td>\n",
       "      <td>2017-10-02 10:56:33</td>\n",
       "      <td>2017-10-18</td>\n",
       "      <td>87285b34884572647811a353c7ac498a</td>\n",
       "      <td>3504c0cb71d7fa48d967e0e4c94d59d9</td>\n",
       "      <td>2017-10-06 11:07:15</td>\n",
       "      <td>29.99</td>\n",
       "      <td>8.72</td>\n",
       "      <td>...</td>\n",
       "      <td>SP</td>\n",
       "      <td>-23.576170</td>\n",
       "      <td>-46.587276</td>\n",
       "      <td>housewares</td>\n",
       "      <td>1</td>\n",
       "      <td>1</td>\n",
       "      <td>2017</td>\n",
       "      <td>10</td>\n",
       "      <td>29.99</td>\n",
       "      <td>29.99</td>\n",
       "    </tr>\n",
       "    <tr>\n",
       "      <th>1</th>\n",
       "      <td>53cdb2fc8bc7dce0b6741e2150273451</td>\n",
       "      <td>b0830fb4747a6c6d20dea0b8c802d7ef</td>\n",
       "      <td>delivered</td>\n",
       "      <td>2018-07-24 20:41:37</td>\n",
       "      <td>2018-08-13</td>\n",
       "      <td>595fac2a385ac33a80bd5114aec74eb8</td>\n",
       "      <td>289cdb325fb7e7f891c38608bf9e0962</td>\n",
       "      <td>2018-07-30 03:24:27</td>\n",
       "      <td>118.70</td>\n",
       "      <td>22.76</td>\n",
       "      <td>...</td>\n",
       "      <td>BA</td>\n",
       "      <td>-12.126651</td>\n",
       "      <td>-45.008162</td>\n",
       "      <td>perfumery</td>\n",
       "      <td>1</td>\n",
       "      <td>1</td>\n",
       "      <td>2018</td>\n",
       "      <td>7</td>\n",
       "      <td>118.70</td>\n",
       "      <td>118.70</td>\n",
       "    </tr>\n",
       "    <tr>\n",
       "      <th>3</th>\n",
       "      <td>949d5b44dbf5de918fe9c16f97b45f8a</td>\n",
       "      <td>f88197465ea7920adcdbec7375364d82</td>\n",
       "      <td>delivered</td>\n",
       "      <td>2017-11-18 19:28:06</td>\n",
       "      <td>2017-12-15</td>\n",
       "      <td>d0b61bfb1de832b15ba9d266ca96e5b0</td>\n",
       "      <td>66922902710d126a0e7d26b0e3805106</td>\n",
       "      <td>2017-11-23 19:45:59</td>\n",
       "      <td>45.00</td>\n",
       "      <td>27.20</td>\n",
       "      <td>...</td>\n",
       "      <td>RN</td>\n",
       "      <td>-5.774611</td>\n",
       "      <td>-35.273916</td>\n",
       "      <td>pet_shop</td>\n",
       "      <td>1</td>\n",
       "      <td>1</td>\n",
       "      <td>2017</td>\n",
       "      <td>11</td>\n",
       "      <td>45.00</td>\n",
       "      <td>45.00</td>\n",
       "    </tr>\n",
       "    <tr>\n",
       "      <th>4</th>\n",
       "      <td>ad21c59c0840e6cb83a9ceb5573f8159</td>\n",
       "      <td>8ab97904e6daea8866dbdbc4fb7aad2c</td>\n",
       "      <td>delivered</td>\n",
       "      <td>2018-02-13 21:18:39</td>\n",
       "      <td>2018-02-26</td>\n",
       "      <td>65266b2da20d04dbe00c5c2d3bb7859e</td>\n",
       "      <td>2c9e548be18521d1c43cde1c582c6de8</td>\n",
       "      <td>2018-02-19 20:31:37</td>\n",
       "      <td>19.90</td>\n",
       "      <td>8.72</td>\n",
       "      <td>...</td>\n",
       "      <td>SP</td>\n",
       "      <td>-23.675316</td>\n",
       "      <td>-46.515116</td>\n",
       "      <td>stationery</td>\n",
       "      <td>1</td>\n",
       "      <td>1</td>\n",
       "      <td>2018</td>\n",
       "      <td>2</td>\n",
       "      <td>19.90</td>\n",
       "      <td>19.90</td>\n",
       "    </tr>\n",
       "    <tr>\n",
       "      <th>11</th>\n",
       "      <td>82566a660a982b15fb86e904c8d32918</td>\n",
       "      <td>d3e3b74c766bc6214e0c830b17ee2341</td>\n",
       "      <td>delivered</td>\n",
       "      <td>2018-06-07 10:06:19</td>\n",
       "      <td>2018-07-18</td>\n",
       "      <td>72a97c271b2e429974398f46b93ae530</td>\n",
       "      <td>094ced053e257ae8cae57205592d6712</td>\n",
       "      <td>2018-06-18 03:13:12</td>\n",
       "      <td>31.90</td>\n",
       "      <td>18.23</td>\n",
       "      <td>...</td>\n",
       "      <td>MG</td>\n",
       "      <td>-20.386870</td>\n",
       "      <td>-43.506711</td>\n",
       "      <td>perfumery</td>\n",
       "      <td>1</td>\n",
       "      <td>1</td>\n",
       "      <td>2018</td>\n",
       "      <td>6</td>\n",
       "      <td>31.90</td>\n",
       "      <td>31.90</td>\n",
       "    </tr>\n",
       "  </tbody>\n",
       "</table>\n",
       "<p>5 rows × 23 columns</p>\n",
       "</div>"
      ],
      "text/plain": [
       "                            order_id                       customer_id  \\\n",
       "0   e481f51cbdc54678b7cc49136f2d6af7  9ef432eb6251297304e76186b10a928d   \n",
       "1   53cdb2fc8bc7dce0b6741e2150273451  b0830fb4747a6c6d20dea0b8c802d7ef   \n",
       "3   949d5b44dbf5de918fe9c16f97b45f8a  f88197465ea7920adcdbec7375364d82   \n",
       "4   ad21c59c0840e6cb83a9ceb5573f8159  8ab97904e6daea8866dbdbc4fb7aad2c   \n",
       "11  82566a660a982b15fb86e904c8d32918  d3e3b74c766bc6214e0c830b17ee2341   \n",
       "\n",
       "   order_status order_purchase_timestamp order_estimated_delivery_date  \\\n",
       "0     delivered      2017-10-02 10:56:33                    2017-10-18   \n",
       "1     delivered      2018-07-24 20:41:37                    2018-08-13   \n",
       "3     delivered      2017-11-18 19:28:06                    2017-12-15   \n",
       "4     delivered      2018-02-13 21:18:39                    2018-02-26   \n",
       "11    delivered      2018-06-07 10:06:19                    2018-07-18   \n",
       "\n",
       "                          product_id                         seller_id  \\\n",
       "0   87285b34884572647811a353c7ac498a  3504c0cb71d7fa48d967e0e4c94d59d9   \n",
       "1   595fac2a385ac33a80bd5114aec74eb8  289cdb325fb7e7f891c38608bf9e0962   \n",
       "3   d0b61bfb1de832b15ba9d266ca96e5b0  66922902710d126a0e7d26b0e3805106   \n",
       "4   65266b2da20d04dbe00c5c2d3bb7859e  2c9e548be18521d1c43cde1c582c6de8   \n",
       "11  72a97c271b2e429974398f46b93ae530  094ced053e257ae8cae57205592d6712   \n",
       "\n",
       "   shipping_limit_date   price  freight_value  ... customer_state  \\\n",
       "0  2017-10-06 11:07:15   29.99           8.72  ...             SP   \n",
       "1  2018-07-30 03:24:27  118.70          22.76  ...             BA   \n",
       "3  2017-11-23 19:45:59   45.00          27.20  ...             RN   \n",
       "4  2018-02-19 20:31:37   19.90           8.72  ...             SP   \n",
       "11 2018-06-18 03:13:12   31.90          18.23  ...             MG   \n",
       "\n",
       "    geolocation_lat geolocation_lng product_category_name_english  order_size  \\\n",
       "0        -23.576170      -46.587276                    housewares           1   \n",
       "1        -12.126651      -45.008162                     perfumery           1   \n",
       "3         -5.774611      -35.273916                      pet_shop           1   \n",
       "4        -23.675316      -46.515116                    stationery           1   \n",
       "11       -20.386870      -43.506711                     perfumery           1   \n",
       "\n",
       "    product_order_size  Year  Month  product_sales_amt  order_sales_amt  \n",
       "0                    1  2017     10              29.99            29.99  \n",
       "1                    1  2018      7             118.70           118.70  \n",
       "3                    1  2017     11              45.00            45.00  \n",
       "4                    1  2018      2              19.90            19.90  \n",
       "11                   1  2018      6              31.90            31.90  \n",
       "\n",
       "[5 rows x 23 columns]"
      ]
     },
     "execution_count": 48,
     "metadata": {},
     "output_type": "execute_result"
    }
   ],
   "source": [
    "df.head()"
   ]
  }
 ],
 "metadata": {
  "kernelspec": {
   "display_name": "Python 3 (ipykernel)",
   "language": "python",
   "name": "python3"
  },
  "language_info": {
   "codemirror_mode": {
    "name": "ipython",
    "version": 3
   },
   "file_extension": ".py",
   "mimetype": "text/x-python",
   "name": "python",
   "nbconvert_exporter": "python",
   "pygments_lexer": "ipython3",
   "version": "3.9.13"
  }
 },
 "nbformat": 4,
 "nbformat_minor": 5
}
